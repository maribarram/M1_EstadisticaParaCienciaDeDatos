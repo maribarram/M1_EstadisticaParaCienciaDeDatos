{
 "cells": [
  {
   "cell_type": "markdown",
   "metadata": {},
   "source": [
    "# Workshop 4\n",
    "Marcela Ibarra Mora A01231973"
   ]
  },
  {
   "cell_type": "markdown",
   "metadata": {},
   "source": [
    "CHALLENGE: Estimate a market regression model"
   ]
  },
  {
   "cell_type": "code",
   "execution_count": 1,
   "metadata": {},
   "outputs": [],
   "source": [
    "#Calculate cc returns of both stocks and drop NA values\n",
    "import pandas_datareader as pdr\n",
    "import pandas as pd\n",
    "import numpy as np\n",
    "import matplotlib\n",
    "import matplotlib.pyplot as plt\n",
    "\n",
    "# Getting price data and selecting adjusted price columns:\n",
    "sprices = pdr.get_data_yahoo(['ALFAA.MX','^MXX'],start=\"01/01/2018\", end=\"07/31/2022\",interval=\"m\")\n",
    "sprices = sprices['Adj Close']\n",
    "\n",
    "# Calculating returns:\n",
    "sr = np.log(sprices) - np.log(sprices.shift(1))\n",
    "# Deleting the first month with NAs:\n",
    "sr=sr.dropna()\n",
    "sr.columns=['ALFAAret','MXXret']"
   ]
  },
  {
   "cell_type": "code",
   "execution_count": 2,
   "metadata": {},
   "outputs": [
    {
     "data": {
      "image/png": "[encoded data removed]",
      "text/plain": [
       "<Figure size 432x288 with 1 Axes>"
      ]
     },
     "metadata": {},
     "output_type": "display_data"
    }
   ],
   "source": [
    "#Do a scatter plot including the regression line and interpret the plot\n",
    "sr.plot.scatter(x='MXXret', y='ALFAAret',c='DarkBlue')\n",
    "plt.show()"
   ]
  },
  {
   "cell_type": "code",
   "execution_count": 3,
   "metadata": {},
   "outputs": [
    {
     "data": {
      "image/png": "[encoded data removed]",
      "text/plain": [
       "<Figure size 432x288 with 1 Axes>"
      ]
     },
     "metadata": {},
     "output_type": "display_data"
    }
   ],
   "source": [
    "#re-do the scatter plot trying to make the X and Y axis using the same range of values\n",
    "plt.clf()\n",
    "x=sr['MXXret']\n",
    "y = sr['ALFAAret']\n",
    "plt.scatter(x, y)\n",
    "# Now I add the regression line:\n",
    "# The polyfit function actually calculates the beta0 and beta1 of the linear regression line:\n",
    "b1,b0 = np.polyfit(x,y,1)\n",
    "# With the beta coefficients I calculated the predicted line (yfit)\n",
    "yfit = b0+b1*x\n",
    "plt.plot(x, yfit,c=\"orange\")\n",
    "# I change the range for X trying to make both axis moving in the same range:\n",
    "plt.xticks(np.arange(-0.80,1,0.1))\n",
    "# I label the axis:\n",
    "plt.xlabel(\"Market returns\")\n",
    "plt.ylabel(\"Alfa returns\")\n",
    "\n",
    "plt.show()"
   ]
  },
  {
   "cell_type": "code",
   "execution_count": 4,
   "metadata": {},
   "outputs": [
    {
     "name": "stdout",
     "output_type": "stream",
     "text": [
      "                            OLS Regression Results                            \n",
      "==============================================================================\n",
      "Dep. Variable:               ALFAAret   R-squared:                       0.354\n",
      "Model:                            OLS   Adj. R-squared:                  0.342\n",
      "Method:                 Least Squares   F-statistic:                     29.10\n",
      "Date:                Sat, 10 Sep 2022   Prob (F-statistic):           1.63e-06\n",
      "Time:                        14:11:50   Log-Likelihood:                 43.901\n",
      "No. Observations:                  55   AIC:                            -83.80\n",
      "Df Residuals:                      53   BIC:                            -79.79\n",
      "Df Model:                           1                                         \n",
      "Covariance Type:            nonrobust                                         \n",
      "==============================================================================\n",
      "                 coef    std err          t      P>|t|      [0.025      0.975]\n",
      "------------------------------------------------------------------------------\n",
      "const         -0.0075      0.015     -0.501      0.618      -0.038       0.023\n",
      "MXXret         1.5274      0.283      5.394      0.000       0.959       2.095\n",
      "==============================================================================\n",
      "Omnibus:                        9.683   Durbin-Watson:                   2.207\n",
      "Prob(Omnibus):                  0.008   Jarque-Bera (JB):               23.380\n",
      "Skew:                          -0.155   Prob(JB):                     8.38e-06\n",
      "Kurtosis:                       6.179   Cond. No.                         18.9\n",
      "==============================================================================\n",
      "\n",
      "Notes:\n",
      "[1] Standard Errors assume that the covariance matrix of the errors is correctly specified.\n"
     ]
    }
   ],
   "source": [
    "#Run the market regression model (the Y=stock return, the X=market return). You can use the function OLS from the statsmodels.api library.\n",
    "import statsmodels.api as sm\n",
    "# I add a column of 1's to the X dataframe in order to include the beta0 coefficient (intercept) in the model:\n",
    "X = sm.add_constant(x)\n",
    "# I estimate the OLS regression model:\n",
    "mkmodel = sm.OLS(y,X).fit()\n",
    "# I display the summary of the regression: \n",
    "print(mkmodel.summary())"
   ]
  },
  {
   "cell_type": "code",
   "execution_count": 5,
   "metadata": {},
   "outputs": [
    {
     "data": {
      "text/plain": [
       "array([-0.00750561,  1.52737616])"
      ]
     },
     "execution_count": 5,
     "metadata": {},
     "output_type": "execute_result"
    }
   ],
   "source": [
    "# Using matrix algebra to estimate the beta coefficients:\n",
    "# I add the column of 1's to the dataframe:\n",
    "sr['constant'] = 1\n",
    "selcols = ['constant','MXXret']\n",
    "# I set x as a matrix with the column of 1's and the values of X:\n",
    "x = sr[selcols].values\n",
    "# I set y as the dependent variable:\n",
    "y = sr['ALFAAret'].values\n",
    "# I calculate the matrix multiplication X'X:\n",
    "xtx = np.matmul(x.transpose(),x)\n",
    "# I calculate the matrix multiplication X'Y:\n",
    "xty = np.matmul(x.transpose(),y)\n",
    "# I get the inverse of the matrix (X'X) to solve for the beta coefficients:\n",
    "invtxt = np.linalg.inv(xtx)\n",
    "# I multiply inv(X'X)*X'Y to get the estimation of the beta vector (beta0 and beta1 coefficients) \n",
    "betas = np.matmul(invtxt,xty)\n",
    "betas"
   ]
  },
  {
   "cell_type": "markdown",
   "metadata": {},
   "source": [
    "**E[ALFAret]= -0.0075056132861929395 + 1.5273762316983732*MXXret.**"
   ]
  },
  {
   "cell_type": "markdown",
   "metadata": {},
   "source": [
    "CHALLENGE: Estimate moving betas for the market regression model"
   ]
  },
  {
   "cell_type": "code",
   "execution_count": 6,
   "metadata": {},
   "outputs": [],
   "source": [
    "#monthly stock prices for ALFAA.MX and the market (^MXX) from Jan 2010 to Jul 2022, and calculate cc returns.\n",
    "# Getting price data and selecting adjusted price columns:\n",
    "sprices = pdr.get_data_yahoo(['ALFAA.MX','^MXX'],start=\"01/01/2010\", end=\"07/31/2022\",interval=\"m\")\n",
    "sprices = sprices['Adj Close']\n",
    "\n",
    "# Calculating returns:\n",
    "sr = np.log(sprices) - np.log(sprices.shift(1))\n",
    "# Deleting the first month with NAs:\n",
    "sr=sr.dropna()\n",
    "sr.columns=['ALFAAret','MXXret']"
   ]
  },
  {
   "cell_type": "code",
   "execution_count": 7,
   "metadata": {},
   "outputs": [
    {
     "data": {
      "text/html": [
       "<div>\n",
       "<style scoped>\n",
       "    .dataframe tbody tr th:only-of-type {\n",
       "        vertical-align: middle;\n",
       "    }\n",
       "\n",
       "    .dataframe tbody tr th {\n",
       "        vertical-align: top;\n",
       "    }\n",
       "\n",
       "    .dataframe thead th {\n",
       "        text-align: right;\n",
       "    }\n",
       "</style>\n",
       "<table border=\"1\" class=\"dataframe\">\n",
       "  <thead>\n",
       "    <tr style=\"text-align: right;\">\n",
       "      <th></th>\n",
       "      <th>const</th>\n",
       "      <th>MXXret</th>\n",
       "    </tr>\n",
       "    <tr>\n",
       "      <th>Date</th>\n",
       "      <th></th>\n",
       "      <th></th>\n",
       "    </tr>\n",
       "  </thead>\n",
       "  <tbody>\n",
       "    <tr>\n",
       "      <th>2022-04-01</th>\n",
       "      <td>-0.016308</td>\n",
       "      <td>1.803981</td>\n",
       "    </tr>\n",
       "    <tr>\n",
       "      <th>2022-05-01</th>\n",
       "      <td>-0.014117</td>\n",
       "      <td>1.816945</td>\n",
       "    </tr>\n",
       "    <tr>\n",
       "      <th>2022-06-01</th>\n",
       "      <td>-0.012129</td>\n",
       "      <td>1.720952</td>\n",
       "    </tr>\n",
       "    <tr>\n",
       "      <th>2022-07-01</th>\n",
       "      <td>-0.012282</td>\n",
       "      <td>1.706227</td>\n",
       "    </tr>\n",
       "    <tr>\n",
       "      <th>2022-08-01</th>\n",
       "      <td>-0.010296</td>\n",
       "      <td>1.689406</td>\n",
       "    </tr>\n",
       "  </tbody>\n",
       "</table>\n",
       "</div>"
      ],
      "text/plain": [
       "               const    MXXret\n",
       "Date                          \n",
       "2022-04-01 -0.016308  1.803981\n",
       "2022-05-01 -0.014117  1.816945\n",
       "2022-06-01 -0.012129  1.720952\n",
       "2022-07-01 -0.012282  1.706227\n",
       "2022-08-01 -0.010296  1.689406"
      ]
     },
     "execution_count": 7,
     "metadata": {},
     "output_type": "execute_result"
    }
   ],
   "source": [
    "#Run rolling regressions and save the moving bo and b1 coefficients for all time windows.\n",
    "from statsmodels.regression.rolling import RollingOLS\n",
    "x=sm.add_constant(sr['MXXret'])\n",
    "y = sr['ALFAAret']\n",
    "rolreg = RollingOLS(y,x,window=36).fit()\n",
    "betas = rolreg.params\n",
    "# I check the last pairs of beta values:\n",
    "betas.tail()"
   ]
  },
  {
   "cell_type": "code",
   "execution_count": 8,
   "metadata": {},
   "outputs": [
    {
     "data": {
      "image/png": "[encoded data removed]",
      "text/plain": [
       "<Figure size 432x288 with 1 Axes>"
      ]
     },
     "metadata": {},
     "output_type": "display_data"
    }
   ],
   "source": [
    "#plot to see how b0 and b1 has changed over time.\n",
    "plt.clf()\n",
    "plt.plot(betas['MXXret'])\n",
    "plt.title('Moving beta1 for Alfaa')\n",
    "plt.xlabel('Date')\n",
    "plt.ylabel('beta1')\n",
    "plt.show()"
   ]
  },
  {
   "cell_type": "code",
   "execution_count": 9,
   "metadata": {},
   "outputs": [
    {
     "data": {
      "image/png": "[encoded data removed]",
      "text/plain": [
       "<Figure size 432x288 with 1 Axes>"
      ]
     },
     "metadata": {},
     "output_type": "display_data"
    }
   ],
   "source": [
    "plt.clf()\n",
    "plt.plot(betas['const'])\n",
    "plt.title('Moving beta0 for Alfaa')\n",
    "plt.xlabel('Date')\n",
    "plt.ylabel('beta0')\n",
    "plt.show()"
   ]
  },
  {
   "cell_type": "code",
   "execution_count": 10,
   "metadata": {},
   "outputs": [
    {
     "data": {
      "text/html": [
       "<div>\n",
       "<style scoped>\n",
       "    .dataframe tbody tr th:only-of-type {\n",
       "        vertical-align: middle;\n",
       "    }\n",
       "\n",
       "    .dataframe tbody tr th {\n",
       "        vertical-align: top;\n",
       "    }\n",
       "\n",
       "    .dataframe thead th {\n",
       "        text-align: right;\n",
       "    }\n",
       "</style>\n",
       "<table border=\"1\" class=\"dataframe\">\n",
       "  <thead>\n",
       "    <tr style=\"text-align: right;\">\n",
       "      <th></th>\n",
       "      <th>const</th>\n",
       "      <th>MXXret</th>\n",
       "    </tr>\n",
       "  </thead>\n",
       "  <tbody>\n",
       "    <tr>\n",
       "      <th>count</th>\n",
       "      <td>116.000000</td>\n",
       "      <td>116.000000</td>\n",
       "    </tr>\n",
       "    <tr>\n",
       "      <th>mean</th>\n",
       "      <td>-0.002681</td>\n",
       "      <td>1.514944</td>\n",
       "    </tr>\n",
       "    <tr>\n",
       "      <th>std</th>\n",
       "      <td>0.015548</td>\n",
       "      <td>0.400789</td>\n",
       "    </tr>\n",
       "    <tr>\n",
       "      <th>min</th>\n",
       "      <td>-0.025598</td>\n",
       "      <td>0.671151</td>\n",
       "    </tr>\n",
       "    <tr>\n",
       "      <th>25%</th>\n",
       "      <td>-0.014234</td>\n",
       "      <td>1.134707</td>\n",
       "    </tr>\n",
       "    <tr>\n",
       "      <th>50%</th>\n",
       "      <td>-0.009568</td>\n",
       "      <td>1.549216</td>\n",
       "    </tr>\n",
       "    <tr>\n",
       "      <th>75%</th>\n",
       "      <td>0.008118</td>\n",
       "      <td>1.791329</td>\n",
       "    </tr>\n",
       "    <tr>\n",
       "      <th>max</th>\n",
       "      <td>0.030594</td>\n",
       "      <td>2.343574</td>\n",
       "    </tr>\n",
       "  </tbody>\n",
       "</table>\n",
       "</div>"
      ],
      "text/plain": [
       "            const      MXXret\n",
       "count  116.000000  116.000000\n",
       "mean    -0.002681    1.514944\n",
       "std      0.015548    0.400789\n",
       "min     -0.025598    0.671151\n",
       "25%     -0.014234    1.134707\n",
       "50%     -0.009568    1.549216\n",
       "75%      0.008118    1.791329\n",
       "max      0.030594    2.343574"
      ]
     },
     "execution_count": 10,
     "metadata": {},
     "output_type": "execute_result"
    }
   ],
   "source": [
    "betas.describe()"
   ]
  },
  {
   "cell_type": "code",
   "execution_count": null,
   "metadata": {},
   "outputs": [],
   "source": []
  }
 ],
 "metadata": {
  "kernelspec": {
   "display_name": "Python 3.8.8 ('base')",
   "language": "python",
   "name": "python3"
  },
  "language_info": {
   "codemirror_mode": {
    "name": "ipython",
    "version": 3
   },
   "file_extension": ".py",
   "mimetype": "text/x-python",
   "name": "python",
   "nbconvert_exporter": "python",
   "pygments_lexer": "ipython3",
   "version": "3.8.8"
  },
  "orig_nbformat": 4,
  "vscode": {
   "interpreter": {
    "hash": "bce320103a4f9599bf42cb45744b1f3acee8930c6f7dcdff248089a2e65863cd"
   }
  }
 },
 "nbformat": 4,
 "nbformat_minor": 2
}
