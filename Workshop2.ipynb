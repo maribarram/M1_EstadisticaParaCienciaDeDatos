{
 "cells": [
  {
   "cell_type": "markdown",
   "metadata": {},
   "source": [
    "# Workshop 2\n",
    "Marcela Ibarra Mora A01231973\n",
    "12/08/22"
   ]
  },
  {
   "cell_type": "markdown",
   "metadata": {},
   "source": [
    "## 1. The Central Limit Theorem\n",
    "### 1.1 The Uniform Probability Distribution"
   ]
  },
  {
   "cell_type": "markdown",
   "metadata": {},
   "source": [
    "### Install symbulate..."
   ]
  },
  {
   "cell_type": "code",
   "execution_count": 3,
   "metadata": {},
   "outputs": [
    {
     "name": "stdout",
     "output_type": "stream",
     "text": [
      "Collecting symbulate\n",
      "  Downloading symbulate-0.5.7-py3-none-any.whl (44 kB)\n",
      "Requirement already satisfied: matplotlib in c:\\users\\marce\\anaconda3\\lib\\site-packages (from symbulate) (3.3.4)\n",
      "Requirement already satisfied: numpy in c:\\users\\marce\\anaconda3\\lib\\site-packages (from symbulate) (1.20.1)\n",
      "Requirement already satisfied: scipy in c:\\users\\marce\\anaconda3\\lib\\site-packages (from symbulate) (1.6.2)\n",
      "Requirement already satisfied: kiwisolver>=1.0.1 in c:\\users\\marce\\anaconda3\\lib\\site-packages (from matplotlib->symbulate) (1.3.1)\n",
      "Requirement already satisfied: python-dateutil>=2.1 in c:\\users\\marce\\anaconda3\\lib\\site-packages (from matplotlib->symbulate) (2.8.1)\n",
      "Requirement already satisfied: pyparsing!=2.0.4,!=2.1.2,!=2.1.6,>=2.0.3 in c:\\users\\marce\\anaconda3\\lib\\site-packages (from matplotlib->symbulate) (2.4.7)\n",
      "Requirement already satisfied: cycler>=0.10 in c:\\users\\marce\\anaconda3\\lib\\site-packages (from matplotlib->symbulate) (0.10.0)\n",
      "Requirement already satisfied: pillow>=6.2.0 in c:\\users\\marce\\anaconda3\\lib\\site-packages (from matplotlib->symbulate) (8.2.0)\n",
      "Requirement already satisfied: six in c:\\users\\marce\\anaconda3\\lib\\site-packages (from cycler>=0.10->matplotlib->symbulate) (1.15.0)\n",
      "Installing collected packages: symbulate\n",
      "Successfully installed symbulate-0.5.7\n"
     ]
    }
   ],
   "source": [
    "#!pip install symbulate\n",
    "\n"
   ]
  },
  {
   "cell_type": "markdown",
   "metadata": {},
   "source": [
    "### Import libraries"
   ]
  },
  {
   "cell_type": "code",
   "execution_count": 3,
   "metadata": {},
   "outputs": [],
   "source": [
    "from symbulate import *\n",
    "import matplotlib\n",
    "import matplotlib.pyplot as plt"
   ]
  },
  {
   "cell_type": "markdown",
   "metadata": {},
   "source": [
    "### Simulating numbers with Unifrom probability distribution"
   ]
  },
  {
   "cell_type": "code",
   "execution_count": 3,
   "metadata": {},
   "outputs": [
    {
     "data": {
      "image/png": "[encoded data removed]",
      "text/plain": [
       "<Figure size 432x288 with 1 Axes>"
      ]
     },
     "metadata": {},
     "output_type": "display_data"
    }
   ],
   "source": [
    "#clean the plot space:\n",
    "plt.clf()\n",
    "#Define the probability type\n",
    "P=Uniform(0,40) #numers from 0 to 40\n",
    "#Define X a random variable of the type P(uniform)\n",
    "X=RV(P)\n",
    "#Simulate the values of X and save them in the x array\n",
    "x=X.sim(10000)  #10000 values\n",
    "x.plot()  #plot the distribution of x\n",
    "plt.show()"
   ]
  },
  {
   "cell_type": "markdown",
   "metadata": {},
   "source": [
    "#### CHALLENGE"
   ]
  },
  {
   "cell_type": "code",
   "execution_count": 4,
   "metadata": {},
   "outputs": [
    {
     "name": "stdout",
     "output_type": "stream",
     "text": [
      "11.551022931630957\n",
      "19.891690033097255\n"
     ]
    }
   ],
   "source": [
    "print(x.std())\n",
    "print(x.mean())"
   ]
  },
  {
   "cell_type": "markdown",
   "metadata": {},
   "source": [
    "A. EN CLASE CALCULAMOS LA VARIANZA DE ESTA DISTRIBUCION LA CUAL NOS DIO 133.33 AL SACARLE A ESTE VALOR SU RAIZ PODEMOS CALCULAR LA DESVIACION ESTANDAR LA CUAL NOS DA 11.64 APROXIMADAMENTE. POR OTRO LADO, TAMBIEN SE CALCULO EL PROMEDIO TEORICO QUE IGUALMENTE NOS DIO 20 APROXIMADAMENTE. \n",
    "\n",
    "B. EL HISTOGRAMA DE ARRIBA NOS MUESTRA LA DISTRIBUCIÓN DE DATOS PARA LA VARIABLE X. PODEMOS OBSERVAR QUE LOS DATOS TIENEN UNA DISTRIBUCION UNIFORME POR LA FORMA DE LA GRADICA Y PORQUE NINGUN DATO MUESTRA MÁS DENSIDAD QUE OTROS. \n",
    "\n",
    "Now generate 25 uniform random variables (25 different variables x) with 10000 values each to end up in a matrix of 10,000 rows and 25 columns:"
   ]
  },
  {
   "cell_type": "code",
   "execution_count": 5,
   "metadata": {},
   "outputs": [],
   "source": [
    "#Define the probability space as a vector of 25 uniform random numbers:\n",
    "P = Uniform(0,40) ** 25\n",
    "#Define XVECTOR as a vector of random variables with 25 random values \n",
    "XVECTOR =RV(P)\n",
    "#Simulate 10,000 vectors to get a matrix  \n",
    "xmatrix=XVECTOR.sim(10000)"
   ]
  },
  {
   "cell_type": "code",
   "execution_count": 6,
   "metadata": {},
   "outputs": [
    {
     "data": {
      "text/html": [
       "\n",
       "    <table>\n",
       "      <thead>\n",
       "        <th width=\"10%\">Index</th>\n",
       "        <th width=\"90%\">Result</th>\n",
       "      </thead>\n",
       "      <tbody>\n",
       "        \n",
       "        <tr>\n",
       "          <td>0</td><td>(0.3734923166065096, 19.093610532057376, 31.28606046858735, 12.087377652123763, 1.7632996385680766, ...</td>\n",
       "        </tr>\n",
       "        \n",
       "        <tr>\n",
       "          <td>1</td><td>(5.047844667516741, 36.49150796152975, 30.793881577380322, 11.42367430366698, 24.65254444021363, ......</td>\n",
       "        </tr>\n",
       "        \n",
       "        <tr>\n",
       "          <td>2</td><td>(2.3994226172508926, 33.138613884795674, 27.14946367112001, 7.300196392775118, 39.44872330805182, .....</td>\n",
       "        </tr>\n",
       "        \n",
       "        <tr>\n",
       "          <td>3</td><td>(22.56224013597048, 20.001650208973075, 13.592953129339387, 3.630734483254421, 8.651558630322448, .....</td>\n",
       "        </tr>\n",
       "        \n",
       "        <tr>\n",
       "          <td>4</td><td>(12.793031521967624, 12.46238891817596, 27.919044215135074, 38.92899136018447, 23.955700378676216, ....</td>\n",
       "        </tr>\n",
       "        \n",
       "        <tr>\n",
       "          <td>5</td><td>(28.209843911544418, 23.456834718234315, 5.52391198534691, 35.70890033502485, 28.303520325165042, .....</td>\n",
       "        </tr>\n",
       "        \n",
       "        <tr>\n",
       "          <td>6</td><td>(19.03271185711178, 31.016855934634755, 10.308032302492553, 5.464345552825662, 32.225054086788, ...,...</td>\n",
       "        </tr>\n",
       "        \n",
       "        <tr>\n",
       "          <td>7</td><td>(30.90083170328765, 35.52637159622701, 12.344996540491282, 39.258536444236235, 36.37802955039452, .....</td>\n",
       "        </tr>\n",
       "        \n",
       "        <tr>\n",
       "          <td>8</td><td>(26.198944041317958, 32.17321654927159, 1.821574439838427, 3.8051851356908273, 37.0637336815244, ......</td>\n",
       "        </tr>\n",
       "        <tr><td>...</td><td>...</td></tr>\n",
       "        <tr>\n",
       "          <td>9999</td><td>(4.66714425976519, 9.156547552059667, 16.893807293409637, 12.8075881009871, 8.075308400239614, ..., ...</td>\n",
       "        </tr>\n",
       "        \n",
       "      </tbody>\n",
       "    </table>\n",
       "        "
      ],
      "text/plain": [
       "Index Result\n",
       "0     (0.3734923166065096, 19.093610532057376, 31.28606046858735, 12.087377652123763, 1.7632996385680766, ..., 37.35819860808186)\n",
       "1     (5.047844667516741, 36.49150796152975, 30.793881577380322, 11.42367430366698, 24.65254444021363, ..., 23.875821093214654)\n",
       "2     (2.3994226172508926, 33.138613884795674, 27.14946367112001, 7.300196392775118, 39.44872330805182, ..., 29.89468247256379)\n",
       "3     (22.56224013597048, 20.001650208973075, 13.592953129339387, 3.630734483254421, 8.651558630322448, ..., 2.0419675067787146)\n",
       "4     (12.793031521967624, 12.46238891817596, 27.919044215135074, 38.92899136018447, 23.955700378676216, ..., 9.826758318756665)\n",
       "5     (28.209843911544418, 23.456834718234315, 5.52391198534691, 35.70890033502485, 28.303520325165042, ..., 32.45136328993535)\n",
       "6     (19.03271185711178, 31.016855934634755, 10.308032302492553, 5.464345552825662, 32.225054086788, ..., 29.852286263179984)\n",
       "7     (30.90083170328765, 35.52637159622701, 12.344996540491282, 39.258536444236235, 36.37802955039452, ..., 4.565944665543635)\n",
       "8     (26.198944041317958, 32.17321654927159, 1.821574439838427, 3.8051851356908273, 37.0637336815244, ..., 3.207136080910966)\n",
       "....  .....................................................................................................................\n",
       "9999  (4.66714425976519, 9.156547552059667, 16.893807293409637, 12.8075881009871, 8.075308400239614, ..., 39.6621515420479)"
      ]
     },
     "execution_count": 6,
     "metadata": {},
     "output_type": "execute_result"
    }
   ],
   "source": [
    "xmatrix"
   ]
  },
  {
   "cell_type": "markdown",
   "metadata": {},
   "source": [
    "We get the mean of each row:"
   ]
  },
  {
   "cell_type": "code",
   "execution_count": 7,
   "metadata": {},
   "outputs": [
    {
     "data": {
      "text/html": [
       "\n",
       "    <table>\n",
       "      <thead>\n",
       "        <th width=\"10%\">Index</th>\n",
       "        <th width=\"90%\">Result</th>\n",
       "      </thead>\n",
       "      <tbody>\n",
       "        \n",
       "        <tr>\n",
       "          <td>0</td><td>16.680168368850037</td>\n",
       "        </tr>\n",
       "        \n",
       "        <tr>\n",
       "          <td>1</td><td>18.59771199668572</td>\n",
       "        </tr>\n",
       "        \n",
       "        <tr>\n",
       "          <td>2</td><td>20.325045641919818</td>\n",
       "        </tr>\n",
       "        \n",
       "        <tr>\n",
       "          <td>3</td><td>17.673193918061</td>\n",
       "        </tr>\n",
       "        \n",
       "        <tr>\n",
       "          <td>4</td><td>17.285540967001552</td>\n",
       "        </tr>\n",
       "        \n",
       "        <tr>\n",
       "          <td>5</td><td>19.071850150338634</td>\n",
       "        </tr>\n",
       "        \n",
       "        <tr>\n",
       "          <td>6</td><td>18.39976088619563</td>\n",
       "        </tr>\n",
       "        \n",
       "        <tr>\n",
       "          <td>7</td><td>25.106712658695916</td>\n",
       "        </tr>\n",
       "        \n",
       "        <tr>\n",
       "          <td>8</td><td>20.81461903973166</td>\n",
       "        </tr>\n",
       "        <tr><td>...</td><td>...</td></tr>\n",
       "        <tr>\n",
       "          <td>9999</td><td>21.598867185124615</td>\n",
       "        </tr>\n",
       "        \n",
       "      </tbody>\n",
       "    </table>\n",
       "        "
      ],
      "text/plain": [
       "Index Result\n",
       "0     16.680168368850037\n",
       "1     18.59771199668572\n",
       "2     20.325045641919818\n",
       "3     17.673193918061\n",
       "4     17.285540967001552\n",
       "5     19.071850150338634\n",
       "6     18.39976088619563\n",
       "7     25.106712658695916\n",
       "8     20.81461903973166\n",
       "....  ..................\n",
       "9999  21.598867185124615"
      ]
     },
     "execution_count": 7,
     "metadata": {},
     "output_type": "execute_result"
    }
   ],
   "source": [
    "# The 2nd parameter is the mathematical operation applied to each row of the random vector\n",
    "# Simulate 10,000 means of each random vector of 25 uniform distributed numbers: \n",
    "xmean = RV(P,mean).sim(10000)\n",
    "xmean"
   ]
  },
  {
   "cell_type": "markdown",
   "metadata": {},
   "source": [
    "We do a histogram of these sample means that come from a uniform distribution"
   ]
  },
  {
   "cell_type": "code",
   "execution_count": 8,
   "metadata": {},
   "outputs": [
    {
     "data": {
      "image/png": "[encoded data removed]",
      "text/plain": [
       "<Figure size 432x288 with 1 Axes>"
      ]
     },
     "metadata": {},
     "output_type": "display_data"
    }
   ],
   "source": [
    "plt.clf()\n",
    "xmean.plot()\n",
    "plt.show()"
   ]
  },
  {
   "cell_type": "markdown",
   "metadata": {},
   "source": [
    "#### CHALLENGE"
   ]
  },
  {
   "cell_type": "code",
   "execution_count": 10,
   "metadata": {},
   "outputs": [
    {
     "name": "stdout",
     "output_type": "stream",
     "text": [
      "2.2944170063666323\n",
      "19.97524471387655\n"
     ]
    }
   ],
   "source": [
    "print(xmean.std())\n",
    "print(xmean.mean())"
   ]
  },
  {
   "cell_type": "markdown",
   "metadata": {},
   "source": [
    "A. LAS DESVICIONES ESTANDAR DE XMEAN Y X SON MUY DIFERENTES DEBIDO A QUE XMEAN SON LOS PRODEMOS DE VARIOS GRUPOS DE DATOS DE ENTRE O A 40 POR LO TANTO LOS PROMEDIOS NO VARIAN TANTO. POR OTRO LADO, LA CANTIDAD DE DATOS QUE TIENE CADA GRUPO TAMBIEN PUEDE AFECTAR, ENTRE MAS PEQUEÑO EL GRUPO DE DATOS TIENE MÁS VARIABILIDAD.\n",
    "\n",
    "B. TIENE SENTIDO QUE EL HISTOGRAMA DE XMEAN SEA UNA CAMPANA DE DEBIDO A QUE TODOS LOS GRUPOS DE DATOS TIENEN UN PROMEDIO SIMILAR POR LA CANTIDAD DE DATOS Y PORQUE TODOS PERTENECE AL RANGO DE 0-40."
   ]
  },
  {
   "cell_type": "markdown",
   "metadata": {},
   "source": [
    "Now plot both variables in the same plot; the original x uniform variable and the xsample variable (the sample means of x)."
   ]
  },
  {
   "cell_type": "code",
   "execution_count": 21,
   "metadata": {},
   "outputs": [
    {
     "data": {
      "image/png": "[encoded data removed]",
      "text/plain": [
       "<Figure size 432x288 with 1 Axes>"
      ]
     },
     "metadata": {},
     "output_type": "display_data"
    }
   ],
   "source": [
    "plt.clf()\n",
    "xmean.plot()\n",
    "x.plot()\n",
    "plt.show()"
   ]
  },
  {
   "cell_type": "markdown",
   "metadata": {},
   "source": [
    "C. SE PUEDE NOTAR QUE LOS DATOS DE X TIENEN UNA DISTRIBUCION UNIFORME PORQUE REALMENTE NO HAY UN VALOR QUE SOBRESALGA MAS QUE LOS OTROS Y SE PUEDE VER QUE EL HISTOGRAMA DE XMEAN ES UNA CAMPANA DEBIDO A QUE LOS DATOS SON TAN UNIFORMES QUE EL PROMEDIO SIEMPRE ES SIMILAR, POR LO TANTO SIEMPRE QUE TENGAMOS DATOS UNIDORMES TENDREMOS UNA CAMAPAN COMO HISTOGRAMA DE LOS PROMEDIOS. "
   ]
  },
  {
   "cell_type": "markdown",
   "metadata": {},
   "source": [
    "### Simulating numbers with a normal probability distribution"
   ]
  },
  {
   "cell_type": "code",
   "execution_count": 22,
   "metadata": {},
   "outputs": [
    {
     "data": {
      "image/png": "[encoded data removed]",
      "text/plain": [
       "<Figure size 432x288 with 1 Axes>"
      ]
     },
     "metadata": {},
     "output_type": "display_data"
    }
   ],
   "source": [
    "# clear the plot space:\n",
    "plt.clf()\n",
    "# Define the probability type of function as Normal (probability space)\n",
    "P = Normal(mean=20, sd=10)\n",
    "# Define Y as a random variable of the type P (normal)\n",
    "Y =RV(P)\n",
    "# Simulate 10,000 values of Y and save them in the y array: \n",
    "y=Y.sim(10000)\n",
    "y.plot()\n",
    "plt.show()"
   ]
  },
  {
   "cell_type": "markdown",
   "metadata": {},
   "source": [
    "#### CHALLENGE"
   ]
  },
  {
   "cell_type": "code",
   "execution_count": 23,
   "metadata": {},
   "outputs": [
    {
     "name": "stdout",
     "output_type": "stream",
     "text": [
      "10.039674675668271\n",
      "20.198979616598507\n"
     ]
    }
   ],
   "source": [
    "print(y.std())\n",
    "print(y.mean())"
   ]
  },
  {
   "cell_type": "markdown",
   "metadata": {},
   "source": [
    "B. SE PUEDE VER QUE LA MAYORIA DE LOS DATOS ESTAN ENTR EL RANGO DE 5 A 35 POR LO TANTO LOS DATOS NO SON UNIFORMES\n",
    "\n",
    "Now generate 10,000 groups of 25 NORMAL random variables with mean=20 and SD=10. You will end up with a matrix of 10,000 rows and 25 columns:"
   ]
  },
  {
   "cell_type": "code",
   "execution_count": 24,
   "metadata": {},
   "outputs": [],
   "source": [
    "#Define the probability space P as a vector of 25 normal random numbers:\n",
    "P = Normal(mean=20, sd=10) ** 25\n",
    "#Define RANDOMVECTOR as a vector of 25 random variables in the Probability space P \n",
    "RANDOMVECTOR = RV(P)\n",
    "#Simulate 10,000 random vectors with this distribution and save the in ymatrix: \n",
    "ymatrix=RANDOMVECTOR.sim(10000)"
   ]
  },
  {
   "cell_type": "code",
   "execution_count": 25,
   "metadata": {},
   "outputs": [
    {
     "data": {
      "text/html": [
       "\n",
       "    <table>\n",
       "      <thead>\n",
       "        <th width=\"10%\">Index</th>\n",
       "        <th width=\"90%\">Result</th>\n",
       "      </thead>\n",
       "      <tbody>\n",
       "        \n",
       "        <tr>\n",
       "          <td>0</td><td>(29.993796558616395, 31.374779628417635, -0.3290761454795934, 15.137644833188102, 14.709304908374001...</td>\n",
       "        </tr>\n",
       "        \n",
       "        <tr>\n",
       "          <td>1</td><td>(21.688139949241418, 22.506337085768916, 27.04189425187544, 11.478264449432395, 26.184885530507696, ...</td>\n",
       "        </tr>\n",
       "        \n",
       "        <tr>\n",
       "          <td>2</td><td>(18.37979451660118, 12.004500236624388, 29.287007274875776, 11.816865793303338, 15.767577812225564, ...</td>\n",
       "        </tr>\n",
       "        \n",
       "        <tr>\n",
       "          <td>3</td><td>(11.14229770962081, 13.494151243660397, 31.672864321880862, 25.09038034308126, 9.655973708657154, .....</td>\n",
       "        </tr>\n",
       "        \n",
       "        <tr>\n",
       "          <td>4</td><td>(8.208618075163885, 34.30501356147077, 22.87385640778342, 10.81320508732791, -0.05877533779680988, ....</td>\n",
       "        </tr>\n",
       "        \n",
       "        <tr>\n",
       "          <td>5</td><td>(31.00056683254583, 28.238839528293575, 21.953160454751686, 29.840725805046187, 6.362742585245883, ....</td>\n",
       "        </tr>\n",
       "        \n",
       "        <tr>\n",
       "          <td>6</td><td>(28.065695588811053, 13.878155725142838, 9.467139037808156, 14.345667079261482, 11.369642687969927, ...</td>\n",
       "        </tr>\n",
       "        \n",
       "        <tr>\n",
       "          <td>7</td><td>(26.4259793340266, -4.5298571873553115, 29.26981424973755, 33.58400260628633, 25.32342622943414, ......</td>\n",
       "        </tr>\n",
       "        \n",
       "        <tr>\n",
       "          <td>8</td><td>(27.982953007474766, 14.85580801621753, 14.52751861772708, 22.721968308183353, 15.82580865205734, .....</td>\n",
       "        </tr>\n",
       "        <tr><td>...</td><td>...</td></tr>\n",
       "        <tr>\n",
       "          <td>9999</td><td>(19.594079683560135, 15.088934264270428, 31.472830074633077, 14.010807309587832, 25.728107976831478,...</td>\n",
       "        </tr>\n",
       "        \n",
       "      </tbody>\n",
       "    </table>\n",
       "        "
      ],
      "text/plain": [
       "Index Result\n",
       "0     (29.993796558616395, 31.374779628417635, -0.3290761454795934, 15.137644833188102, 14.709304908374001, ..., 39.74115762104318)\n",
       "1     (21.688139949241418, 22.506337085768916, 27.04189425187544, 11.478264449432395, 26.184885530507696, ..., 22.251287855639173)\n",
       "2     (18.37979451660118, 12.004500236624388, 29.287007274875776, 11.816865793303338, 15.767577812225564, ..., 29.14795836649727)\n",
       "3     (11.14229770962081, 13.494151243660397, 31.672864321880862, 25.09038034308126, 9.655973708657154, ..., 13.090840301517552)\n",
       "4     (8.208618075163885, 34.30501356147077, 22.87385640778342, 10.81320508732791, -0.05877533779680988, ..., 26.891493190561526)\n",
       "5     (31.00056683254583, 28.238839528293575, 21.953160454751686, 29.840725805046187, 6.362742585245883, ..., 34.02005817894832)\n",
       "6     (28.065695588811053, 13.878155725142838, 9.467139037808156, 14.345667079261482, 11.369642687969927, ..., 22.03739817963004)\n",
       "7     (26.4259793340266, -4.5298571873553115, 29.26981424973755, 33.58400260628633, 25.32342622943414, ..., 7.198874619321815)\n",
       "8     (27.982953007474766, 14.85580801621753, 14.52751861772708, 22.721968308183353, 15.82580865205734, ..., 15.461599224481242)\n",
       "....  .............................................................................................................................\n",
       "9999  (19.594079683560135, 15.088934264270428, 31.472830074633077, 14.010807309587832, 25.728107976831478, ..., 14.080519842077631)"
      ]
     },
     "execution_count": 25,
     "metadata": {},
     "output_type": "execute_result"
    }
   ],
   "source": [
    "ymatrix"
   ]
  },
  {
   "cell_type": "markdown",
   "metadata": {},
   "source": [
    "Now we get the mean of each row to get 10,000 means"
   ]
  },
  {
   "cell_type": "code",
   "execution_count": 26,
   "metadata": {},
   "outputs": [
    {
     "data": {
      "text/html": [
       "\n",
       "    <table>\n",
       "      <thead>\n",
       "        <th width=\"10%\">Index</th>\n",
       "        <th width=\"90%\">Result</th>\n",
       "      </thead>\n",
       "      <tbody>\n",
       "        \n",
       "        <tr>\n",
       "          <td>0</td><td>20.435711270455336</td>\n",
       "        </tr>\n",
       "        \n",
       "        <tr>\n",
       "          <td>1</td><td>20.514176013376062</td>\n",
       "        </tr>\n",
       "        \n",
       "        <tr>\n",
       "          <td>2</td><td>20.071095399474373</td>\n",
       "        </tr>\n",
       "        \n",
       "        <tr>\n",
       "          <td>3</td><td>19.091445267981527</td>\n",
       "        </tr>\n",
       "        \n",
       "        <tr>\n",
       "          <td>4</td><td>16.46207832438626</td>\n",
       "        </tr>\n",
       "        \n",
       "        <tr>\n",
       "          <td>5</td><td>20.395719425463017</td>\n",
       "        </tr>\n",
       "        \n",
       "        <tr>\n",
       "          <td>6</td><td>20.616231394161385</td>\n",
       "        </tr>\n",
       "        \n",
       "        <tr>\n",
       "          <td>7</td><td>19.163997272466634</td>\n",
       "        </tr>\n",
       "        \n",
       "        <tr>\n",
       "          <td>8</td><td>20.657445218152276</td>\n",
       "        </tr>\n",
       "        <tr><td>...</td><td>...</td></tr>\n",
       "        <tr>\n",
       "          <td>9999</td><td>20.869014119378605</td>\n",
       "        </tr>\n",
       "        \n",
       "      </tbody>\n",
       "    </table>\n",
       "        "
      ],
      "text/plain": [
       "Index Result\n",
       "0     20.435711270455336\n",
       "1     20.514176013376062\n",
       "2     20.071095399474373\n",
       "3     19.091445267981527\n",
       "4     16.46207832438626\n",
       "5     20.395719425463017\n",
       "6     20.616231394161385\n",
       "7     19.163997272466634\n",
       "8     20.657445218152276\n",
       "....  ..................\n",
       "9999  20.869014119378605"
      ]
     },
     "execution_count": 26,
     "metadata": {},
     "output_type": "execute_result"
    }
   ],
   "source": [
    "# The 2nd parameter is the mathematical operation applied to each row of the random vector\n",
    "# Simulate 10,000 means of each random vector of 25 uniform distributed numbers: \n",
    "ymean = RV(P,mean).sim(10000)\n",
    "ymean"
   ]
  },
  {
   "cell_type": "markdown",
   "metadata": {},
   "source": [
    "Now we plot a histogram of ymean"
   ]
  },
  {
   "cell_type": "code",
   "execution_count": 27,
   "metadata": {},
   "outputs": [
    {
     "data": {
      "text/plain": [
       "<function matplotlib.pyplot.show(close=None, block=None)>"
      ]
     },
     "execution_count": 27,
     "metadata": {},
     "output_type": "execute_result"
    },
    {
     "data": {
      "image/png": "[encoded data removed]",
      "text/plain": [
       "<Figure size 432x288 with 1 Axes>"
      ]
     },
     "metadata": {},
     "output_type": "display_data"
    }
   ],
   "source": [
    "plt.clf()\n",
    "ymean.plot()\n",
    "plt.show"
   ]
  },
  {
   "cell_type": "markdown",
   "metadata": {},
   "source": [
    "#### CHALLENGE"
   ]
  },
  {
   "cell_type": "code",
   "execution_count": 28,
   "metadata": {},
   "outputs": [
    {
     "name": "stdout",
     "output_type": "stream",
     "text": [
      "2.0038751919597\n",
      "20.010952718971684\n"
     ]
    }
   ],
   "source": [
    "print(ymean.std())\n",
    "print(ymean.mean())"
   ]
  },
  {
   "cell_type": "markdown",
   "metadata": {},
   "source": [
    "A. LA VARIABILIDAD CAMBIO DEBIDO A QUE AL CALCULAR EL PROMEDIO, LA VARIABILIDAD DISMINUYE COMO SE OBSERVABA EN EL EJEMPLO DE X Y XMEAN\n",
    "\n",
    "B. EL HISTOGRAMA NOS INDICA QUE LA MAYORIA DE LOS DATOS TIENEN UN PROMEDIO MUY PARECIDO POR LO CUAL TENEMOS UNA GRAFICA EN FORMA DE CAMPANA\n",
    "\n",
    "Now plot both histograms, the histogram of y and the histogram of ymean:"
   ]
  },
  {
   "cell_type": "code",
   "execution_count": 29,
   "metadata": {},
   "outputs": [
    {
     "data": {
      "image/png": "[encoded data removed]",
      "text/plain": [
       "<Figure size 432x288 with 1 Axes>"
      ]
     },
     "metadata": {},
     "output_type": "display_data"
    }
   ],
   "source": [
    "plt.clf()\n",
    "ymean.plot()\n",
    "y.plot()\n",
    "plt.show()"
   ]
  },
  {
   "cell_type": "markdown",
   "metadata": {},
   "source": [
    "## HYPOTHESIS TESTING"
   ]
  },
  {
   "cell_type": "markdown",
   "metadata": {},
   "source": [
    "#### CHALLENGE"
   ]
  },
  {
   "cell_type": "markdown",
   "metadata": {},
   "source": [
    "Im going to generate dataset with a normal distribution to simulate "
   ]
  },
  {
   "cell_type": "code",
   "execution_count": 4,
   "metadata": {},
   "outputs": [],
   "source": [
    "import pandas_datareader as pdr"
   ]
  },
  {
   "cell_type": "code",
   "execution_count": 20,
   "metadata": {},
   "outputs": [
    {
     "name": "stdout",
     "output_type": "stream",
     "text": [
      "(49, 6)\n"
     ]
    },
    {
     "data": {
      "text/html": [
       "<div>\n",
       "<style scoped>\n",
       "    .dataframe tbody tr th:only-of-type {\n",
       "        vertical-align: middle;\n",
       "    }\n",
       "\n",
       "    .dataframe tbody tr th {\n",
       "        vertical-align: top;\n",
       "    }\n",
       "\n",
       "    .dataframe thead th {\n",
       "        text-align: right;\n",
       "    }\n",
       "</style>\n",
       "<table border=\"1\" class=\"dataframe\">\n",
       "  <thead>\n",
       "    <tr style=\"text-align: right;\">\n",
       "      <th></th>\n",
       "      <th>High</th>\n",
       "      <th>Low</th>\n",
       "      <th>Open</th>\n",
       "      <th>Close</th>\n",
       "      <th>Volume</th>\n",
       "      <th>Adj Close</th>\n",
       "    </tr>\n",
       "    <tr>\n",
       "      <th>Date</th>\n",
       "      <th></th>\n",
       "      <th></th>\n",
       "      <th></th>\n",
       "      <th></th>\n",
       "      <th></th>\n",
       "      <th></th>\n",
       "    </tr>\n",
       "  </thead>\n",
       "  <tbody>\n",
       "    <tr>\n",
       "      <th>2017-01-01</th>\n",
       "      <td>65.910004</td>\n",
       "      <td>61.950001</td>\n",
       "      <td>62.790001</td>\n",
       "      <td>64.650002</td>\n",
       "      <td>4.934535e+08</td>\n",
       "      <td>59.846745</td>\n",
       "    </tr>\n",
       "    <tr>\n",
       "      <th>2017-02-01</th>\n",
       "      <td>65.239998</td>\n",
       "      <td>62.750000</td>\n",
       "      <td>64.360001</td>\n",
       "      <td>63.980000</td>\n",
       "      <td>4.407440e+08</td>\n",
       "      <td>59.226517</td>\n",
       "    </tr>\n",
       "    <tr>\n",
       "      <th>2017-03-01</th>\n",
       "      <td>66.190002</td>\n",
       "      <td>63.619999</td>\n",
       "      <td>64.129997</td>\n",
       "      <td>65.860001</td>\n",
       "      <td>4.891697e+08</td>\n",
       "      <td>61.336437</td>\n",
       "    </tr>\n",
       "    <tr>\n",
       "      <th>2017-04-01</th>\n",
       "      <td>69.139999</td>\n",
       "      <td>64.849998</td>\n",
       "      <td>65.809998</td>\n",
       "      <td>68.459999</td>\n",
       "      <td>4.331912e+08</td>\n",
       "      <td>63.757862</td>\n",
       "    </tr>\n",
       "    <tr>\n",
       "      <th>2017-05-01</th>\n",
       "      <td>70.739998</td>\n",
       "      <td>67.139999</td>\n",
       "      <td>68.680000</td>\n",
       "      <td>69.839996</td>\n",
       "      <td>5.172185e+08</td>\n",
       "      <td>65.043076</td>\n",
       "    </tr>\n",
       "    <tr>\n",
       "      <th>2017-06-01</th>\n",
       "      <td>72.889999</td>\n",
       "      <td>68.089996</td>\n",
       "      <td>70.239998</td>\n",
       "      <td>68.930000</td>\n",
       "      <td>6.297168e+08</td>\n",
       "      <td>64.563560</td>\n",
       "    </tr>\n",
       "    <tr>\n",
       "      <th>2017-07-01</th>\n",
       "      <td>74.419998</td>\n",
       "      <td>68.019997</td>\n",
       "      <td>69.330002</td>\n",
       "      <td>72.699997</td>\n",
       "      <td>4.698512e+08</td>\n",
       "      <td>68.094749</td>\n",
       "    </tr>\n",
       "    <tr>\n",
       "      <th>2017-08-01</th>\n",
       "      <td>74.959999</td>\n",
       "      <td>71.279999</td>\n",
       "      <td>73.099998</td>\n",
       "      <td>74.769997</td>\n",
       "      <td>4.440705e+08</td>\n",
       "      <td>70.033607</td>\n",
       "    </tr>\n",
       "    <tr>\n",
       "      <th>2017-09-01</th>\n",
       "      <td>75.970001</td>\n",
       "      <td>72.919998</td>\n",
       "      <td>74.709999</td>\n",
       "      <td>74.489998</td>\n",
       "      <td>3.759839e+08</td>\n",
       "      <td>70.143074</td>\n",
       "    </tr>\n",
       "    <tr>\n",
       "      <th>2017-10-01</th>\n",
       "      <td>86.199997</td>\n",
       "      <td>73.709999</td>\n",
       "      <td>74.709999</td>\n",
       "      <td>83.180000</td>\n",
       "      <td>4.499500e+08</td>\n",
       "      <td>78.325958</td>\n",
       "    </tr>\n",
       "    <tr>\n",
       "      <th>2017-11-01</th>\n",
       "      <td>85.059998</td>\n",
       "      <td>82.239998</td>\n",
       "      <td>83.680000</td>\n",
       "      <td>84.169998</td>\n",
       "      <td>4.219260e+08</td>\n",
       "      <td>79.258194</td>\n",
       "    </tr>\n",
       "    <tr>\n",
       "      <th>2017-12-01</th>\n",
       "      <td>87.500000</td>\n",
       "      <td>80.699997</td>\n",
       "      <td>83.599998</td>\n",
       "      <td>85.540001</td>\n",
       "      <td>4.662033e+08</td>\n",
       "      <td>80.952789</td>\n",
       "    </tr>\n",
       "    <tr>\n",
       "      <th>2018-01-01</th>\n",
       "      <td>95.449997</td>\n",
       "      <td>85.500000</td>\n",
       "      <td>86.129997</td>\n",
       "      <td>95.010002</td>\n",
       "      <td>5.742584e+08</td>\n",
       "      <td>89.914932</td>\n",
       "    </tr>\n",
       "    <tr>\n",
       "      <th>2018-02-01</th>\n",
       "      <td>96.070000</td>\n",
       "      <td>83.830002</td>\n",
       "      <td>94.790001</td>\n",
       "      <td>93.769997</td>\n",
       "      <td>7.256633e+08</td>\n",
       "      <td>88.741417</td>\n",
       "    </tr>\n",
       "    <tr>\n",
       "      <th>2018-03-01</th>\n",
       "      <td>97.239998</td>\n",
       "      <td>87.080002</td>\n",
       "      <td>93.989998</td>\n",
       "      <td>91.269997</td>\n",
       "      <td>7.507548e+08</td>\n",
       "      <td>86.781235</td>\n",
       "    </tr>\n",
       "    <tr>\n",
       "      <th>2018-04-01</th>\n",
       "      <td>97.900002</td>\n",
       "      <td>87.510002</td>\n",
       "      <td>90.470001</td>\n",
       "      <td>93.519997</td>\n",
       "      <td>6.681307e+08</td>\n",
       "      <td>88.920578</td>\n",
       "    </tr>\n",
       "    <tr>\n",
       "      <th>2018-05-01</th>\n",
       "      <td>99.989998</td>\n",
       "      <td>92.449997</td>\n",
       "      <td>93.209999</td>\n",
       "      <td>98.839996</td>\n",
       "      <td>5.094179e+08</td>\n",
       "      <td>93.978943</td>\n",
       "    </tr>\n",
       "    <tr>\n",
       "      <th>2018-06-01</th>\n",
       "      <td>102.690002</td>\n",
       "      <td>97.260002</td>\n",
       "      <td>99.279999</td>\n",
       "      <td>98.610001</td>\n",
       "      <td>6.025852e+08</td>\n",
       "      <td>94.166641</td>\n",
       "    </tr>\n",
       "    <tr>\n",
       "      <th>2018-07-01</th>\n",
       "      <td>111.150002</td>\n",
       "      <td>98.000000</td>\n",
       "      <td>98.099998</td>\n",
       "      <td>106.080002</td>\n",
       "      <td>5.693523e+08</td>\n",
       "      <td>101.300041</td>\n",
       "    </tr>\n",
       "    <tr>\n",
       "      <th>2018-08-01</th>\n",
       "      <td>112.779999</td>\n",
       "      <td>104.839996</td>\n",
       "      <td>106.029999</td>\n",
       "      <td>112.330002</td>\n",
       "      <td>4.566281e+08</td>\n",
       "      <td>107.268425</td>\n",
       "    </tr>\n",
       "    <tr>\n",
       "      <th>2018-09-01</th>\n",
       "      <td>115.290001</td>\n",
       "      <td>107.230003</td>\n",
       "      <td>110.849998</td>\n",
       "      <td>114.370003</td>\n",
       "      <td>4.802555e+08</td>\n",
       "      <td>109.636780</td>\n",
       "    </tr>\n",
       "    <tr>\n",
       "      <th>2018-10-01</th>\n",
       "      <td>116.180000</td>\n",
       "      <td>100.110001</td>\n",
       "      <td>114.750000</td>\n",
       "      <td>106.809998</td>\n",
       "      <td>9.275480e+08</td>\n",
       "      <td>102.389664</td>\n",
       "    </tr>\n",
       "    <tr>\n",
       "      <th>2018-11-01</th>\n",
       "      <td>112.239998</td>\n",
       "      <td>99.349998</td>\n",
       "      <td>107.050003</td>\n",
       "      <td>110.889999</td>\n",
       "      <td>7.202286e+08</td>\n",
       "      <td>106.300812</td>\n",
       "    </tr>\n",
       "    <tr>\n",
       "      <th>2018-12-01</th>\n",
       "      <td>113.419998</td>\n",
       "      <td>93.959999</td>\n",
       "      <td>113.000000</td>\n",
       "      <td>101.570000</td>\n",
       "      <td>9.443146e+08</td>\n",
       "      <td>97.787148</td>\n",
       "    </tr>\n",
       "    <tr>\n",
       "      <th>2019-01-01</th>\n",
       "      <td>107.900002</td>\n",
       "      <td>97.199997</td>\n",
       "      <td>99.550003</td>\n",
       "      <td>104.430000</td>\n",
       "      <td>7.142128e+08</td>\n",
       "      <td>100.540627</td>\n",
       "    </tr>\n",
       "    <tr>\n",
       "      <th>2019-02-01</th>\n",
       "      <td>113.239998</td>\n",
       "      <td>102.349998</td>\n",
       "      <td>103.779999</td>\n",
       "      <td>112.029999</td>\n",
       "      <td>4.690959e+08</td>\n",
       "      <td>107.857574</td>\n",
       "    </tr>\n",
       "    <tr>\n",
       "      <th>2019-03-01</th>\n",
       "      <td>120.820000</td>\n",
       "      <td>108.800003</td>\n",
       "      <td>112.889999</td>\n",
       "      <td>117.940002</td>\n",
       "      <td>5.890958e+08</td>\n",
       "      <td>114.032402</td>\n",
       "    </tr>\n",
       "    <tr>\n",
       "      <th>2019-04-01</th>\n",
       "      <td>131.369995</td>\n",
       "      <td>118.099998</td>\n",
       "      <td>118.949997</td>\n",
       "      <td>130.600006</td>\n",
       "      <td>4.331577e+08</td>\n",
       "      <td>126.272934</td>\n",
       "    </tr>\n",
       "    <tr>\n",
       "      <th>2019-05-01</th>\n",
       "      <td>130.649994</td>\n",
       "      <td>123.040001</td>\n",
       "      <td>130.529999</td>\n",
       "      <td>123.680000</td>\n",
       "      <td>5.472188e+08</td>\n",
       "      <td>119.582222</td>\n",
       "    </tr>\n",
       "    <tr>\n",
       "      <th>2019-06-01</th>\n",
       "      <td>138.399994</td>\n",
       "      <td>119.010002</td>\n",
       "      <td>123.849998</td>\n",
       "      <td>133.960007</td>\n",
       "      <td>5.083243e+08</td>\n",
       "      <td>130.001068</td>\n",
       "    </tr>\n",
       "    <tr>\n",
       "      <th>2019-07-01</th>\n",
       "      <td>141.679993</td>\n",
       "      <td>134.669998</td>\n",
       "      <td>136.630005</td>\n",
       "      <td>136.270004</td>\n",
       "      <td>4.840799e+08</td>\n",
       "      <td>132.242798</td>\n",
       "    </tr>\n",
       "    <tr>\n",
       "      <th>2019-08-01</th>\n",
       "      <td>140.940002</td>\n",
       "      <td>130.779999</td>\n",
       "      <td>137.000000</td>\n",
       "      <td>137.860001</td>\n",
       "      <td>5.844820e+08</td>\n",
       "      <td>133.785828</td>\n",
       "    </tr>\n",
       "    <tr>\n",
       "      <th>2019-09-01</th>\n",
       "      <td>142.369995</td>\n",
       "      <td>134.509995</td>\n",
       "      <td>136.610001</td>\n",
       "      <td>139.029999</td>\n",
       "      <td>4.725448e+08</td>\n",
       "      <td>135.370514</td>\n",
       "    </tr>\n",
       "    <tr>\n",
       "      <th>2019-10-01</th>\n",
       "      <td>145.669998</td>\n",
       "      <td>133.220001</td>\n",
       "      <td>139.660004</td>\n",
       "      <td>143.369995</td>\n",
       "      <td>5.495234e+08</td>\n",
       "      <td>139.596283</td>\n",
       "    </tr>\n",
       "    <tr>\n",
       "      <th>2019-11-01</th>\n",
       "      <td>152.500000</td>\n",
       "      <td>142.970001</td>\n",
       "      <td>144.259995</td>\n",
       "      <td>151.380005</td>\n",
       "      <td>3.923718e+08</td>\n",
       "      <td>147.395447</td>\n",
       "    </tr>\n",
       "    <tr>\n",
       "      <th>2019-12-01</th>\n",
       "      <td>159.550003</td>\n",
       "      <td>146.649994</td>\n",
       "      <td>151.809998</td>\n",
       "      <td>157.699997</td>\n",
       "      <td>4.503033e+08</td>\n",
       "      <td>154.071594</td>\n",
       "    </tr>\n",
       "    <tr>\n",
       "      <th>2020-01-01</th>\n",
       "      <td>174.050003</td>\n",
       "      <td>156.509995</td>\n",
       "      <td>158.779999</td>\n",
       "      <td>170.229996</td>\n",
       "      <td>5.585300e+08</td>\n",
       "      <td>166.313248</td>\n",
       "    </tr>\n",
       "    <tr>\n",
       "      <th>2020-02-01</th>\n",
       "      <td>190.699997</td>\n",
       "      <td>152.000000</td>\n",
       "      <td>170.429993</td>\n",
       "      <td>162.009995</td>\n",
       "      <td>8.875223e+08</td>\n",
       "      <td>158.282410</td>\n",
       "    </tr>\n",
       "    <tr>\n",
       "      <th>2020-03-01</th>\n",
       "      <td>175.000000</td>\n",
       "      <td>132.520004</td>\n",
       "      <td>165.309998</td>\n",
       "      <td>157.710007</td>\n",
       "      <td>1.612696e+09</td>\n",
       "      <td>154.502197</td>\n",
       "    </tr>\n",
       "    <tr>\n",
       "      <th>2020-04-01</th>\n",
       "      <td>180.399994</td>\n",
       "      <td>150.360001</td>\n",
       "      <td>153.000000</td>\n",
       "      <td>179.210007</td>\n",
       "      <td>9.847050e+08</td>\n",
       "      <td>175.564911</td>\n",
       "    </tr>\n",
       "    <tr>\n",
       "      <th>2020-05-01</th>\n",
       "      <td>187.509995</td>\n",
       "      <td>173.800003</td>\n",
       "      <td>175.800003</td>\n",
       "      <td>183.250000</td>\n",
       "      <td>6.888450e+08</td>\n",
       "      <td>179.522736</td>\n",
       "    </tr>\n",
       "    <tr>\n",
       "      <th>2020-06-01</th>\n",
       "      <td>204.399994</td>\n",
       "      <td>181.350006</td>\n",
       "      <td>182.539993</td>\n",
       "      <td>203.509995</td>\n",
       "      <td>7.649654e+08</td>\n",
       "      <td>199.925858</td>\n",
       "    </tr>\n",
       "    <tr>\n",
       "      <th>2020-07-01</th>\n",
       "      <td>216.380005</td>\n",
       "      <td>197.509995</td>\n",
       "      <td>203.139999</td>\n",
       "      <td>205.009995</td>\n",
       "      <td>7.701908e+08</td>\n",
       "      <td>201.399475</td>\n",
       "    </tr>\n",
       "    <tr>\n",
       "      <th>2020-08-01</th>\n",
       "      <td>231.149994</td>\n",
       "      <td>203.139999</td>\n",
       "      <td>211.520004</td>\n",
       "      <td>225.529999</td>\n",
       "      <td>6.924239e+08</td>\n",
       "      <td>221.558090</td>\n",
       "    </tr>\n",
       "    <tr>\n",
       "      <th>2020-09-01</th>\n",
       "      <td>232.860001</td>\n",
       "      <td>196.250000</td>\n",
       "      <td>225.509995</td>\n",
       "      <td>210.330002</td>\n",
       "      <td>7.681763e+08</td>\n",
       "      <td>207.125259</td>\n",
       "    </tr>\n",
       "    <tr>\n",
       "      <th>2020-10-01</th>\n",
       "      <td>225.210007</td>\n",
       "      <td>199.619995</td>\n",
       "      <td>213.490005</td>\n",
       "      <td>202.470001</td>\n",
       "      <td>6.316180e+08</td>\n",
       "      <td>199.385025</td>\n",
       "    </tr>\n",
       "    <tr>\n",
       "      <th>2020-11-01</th>\n",
       "      <td>228.119995</td>\n",
       "      <td>200.119995</td>\n",
       "      <td>204.289993</td>\n",
       "      <td>214.070007</td>\n",
       "      <td>5.734430e+08</td>\n",
       "      <td>210.808273</td>\n",
       "    </tr>\n",
       "    <tr>\n",
       "      <th>2020-12-01</th>\n",
       "      <td>227.179993</td>\n",
       "      <td>209.110001</td>\n",
       "      <td>214.509995</td>\n",
       "      <td>222.419998</td>\n",
       "      <td>5.947617e+08</td>\n",
       "      <td>219.604477</td>\n",
       "    </tr>\n",
       "    <tr>\n",
       "      <th>2021-01-01</th>\n",
       "      <td>242.639999</td>\n",
       "      <td>211.940002</td>\n",
       "      <td>222.529999</td>\n",
       "      <td>231.960007</td>\n",
       "      <td>6.480764e+08</td>\n",
       "      <td>229.023727</td>\n",
       "    </tr>\n",
       "  </tbody>\n",
       "</table>\n",
       "</div>"
      ],
      "text/plain": [
       "                  High         Low        Open       Close        Volume  \\\n",
       "Date                                                                       \n",
       "2017-01-01   65.910004   61.950001   62.790001   64.650002  4.934535e+08   \n",
       "2017-02-01   65.239998   62.750000   64.360001   63.980000  4.407440e+08   \n",
       "2017-03-01   66.190002   63.619999   64.129997   65.860001  4.891697e+08   \n",
       "2017-04-01   69.139999   64.849998   65.809998   68.459999  4.331912e+08   \n",
       "2017-05-01   70.739998   67.139999   68.680000   69.839996  5.172185e+08   \n",
       "2017-06-01   72.889999   68.089996   70.239998   68.930000  6.297168e+08   \n",
       "2017-07-01   74.419998   68.019997   69.330002   72.699997  4.698512e+08   \n",
       "2017-08-01   74.959999   71.279999   73.099998   74.769997  4.440705e+08   \n",
       "2017-09-01   75.970001   72.919998   74.709999   74.489998  3.759839e+08   \n",
       "2017-10-01   86.199997   73.709999   74.709999   83.180000  4.499500e+08   \n",
       "2017-11-01   85.059998   82.239998   83.680000   84.169998  4.219260e+08   \n",
       "2017-12-01   87.500000   80.699997   83.599998   85.540001  4.662033e+08   \n",
       "2018-01-01   95.449997   85.500000   86.129997   95.010002  5.742584e+08   \n",
       "2018-02-01   96.070000   83.830002   94.790001   93.769997  7.256633e+08   \n",
       "2018-03-01   97.239998   87.080002   93.989998   91.269997  7.507548e+08   \n",
       "2018-04-01   97.900002   87.510002   90.470001   93.519997  6.681307e+08   \n",
       "2018-05-01   99.989998   92.449997   93.209999   98.839996  5.094179e+08   \n",
       "2018-06-01  102.690002   97.260002   99.279999   98.610001  6.025852e+08   \n",
       "2018-07-01  111.150002   98.000000   98.099998  106.080002  5.693523e+08   \n",
       "2018-08-01  112.779999  104.839996  106.029999  112.330002  4.566281e+08   \n",
       "2018-09-01  115.290001  107.230003  110.849998  114.370003  4.802555e+08   \n",
       "2018-10-01  116.180000  100.110001  114.750000  106.809998  9.275480e+08   \n",
       "2018-11-01  112.239998   99.349998  107.050003  110.889999  7.202286e+08   \n",
       "2018-12-01  113.419998   93.959999  113.000000  101.570000  9.443146e+08   \n",
       "2019-01-01  107.900002   97.199997   99.550003  104.430000  7.142128e+08   \n",
       "2019-02-01  113.239998  102.349998  103.779999  112.029999  4.690959e+08   \n",
       "2019-03-01  120.820000  108.800003  112.889999  117.940002  5.890958e+08   \n",
       "2019-04-01  131.369995  118.099998  118.949997  130.600006  4.331577e+08   \n",
       "2019-05-01  130.649994  123.040001  130.529999  123.680000  5.472188e+08   \n",
       "2019-06-01  138.399994  119.010002  123.849998  133.960007  5.083243e+08   \n",
       "2019-07-01  141.679993  134.669998  136.630005  136.270004  4.840799e+08   \n",
       "2019-08-01  140.940002  130.779999  137.000000  137.860001  5.844820e+08   \n",
       "2019-09-01  142.369995  134.509995  136.610001  139.029999  4.725448e+08   \n",
       "2019-10-01  145.669998  133.220001  139.660004  143.369995  5.495234e+08   \n",
       "2019-11-01  152.500000  142.970001  144.259995  151.380005  3.923718e+08   \n",
       "2019-12-01  159.550003  146.649994  151.809998  157.699997  4.503033e+08   \n",
       "2020-01-01  174.050003  156.509995  158.779999  170.229996  5.585300e+08   \n",
       "2020-02-01  190.699997  152.000000  170.429993  162.009995  8.875223e+08   \n",
       "2020-03-01  175.000000  132.520004  165.309998  157.710007  1.612696e+09   \n",
       "2020-04-01  180.399994  150.360001  153.000000  179.210007  9.847050e+08   \n",
       "2020-05-01  187.509995  173.800003  175.800003  183.250000  6.888450e+08   \n",
       "2020-06-01  204.399994  181.350006  182.539993  203.509995  7.649654e+08   \n",
       "2020-07-01  216.380005  197.509995  203.139999  205.009995  7.701908e+08   \n",
       "2020-08-01  231.149994  203.139999  211.520004  225.529999  6.924239e+08   \n",
       "2020-09-01  232.860001  196.250000  225.509995  210.330002  7.681763e+08   \n",
       "2020-10-01  225.210007  199.619995  213.490005  202.470001  6.316180e+08   \n",
       "2020-11-01  228.119995  200.119995  204.289993  214.070007  5.734430e+08   \n",
       "2020-12-01  227.179993  209.110001  214.509995  222.419998  5.947617e+08   \n",
       "2021-01-01  242.639999  211.940002  222.529999  231.960007  6.480764e+08   \n",
       "\n",
       "             Adj Close  \n",
       "Date                    \n",
       "2017-01-01   59.846745  \n",
       "2017-02-01   59.226517  \n",
       "2017-03-01   61.336437  \n",
       "2017-04-01   63.757862  \n",
       "2017-05-01   65.043076  \n",
       "2017-06-01   64.563560  \n",
       "2017-07-01   68.094749  \n",
       "2017-08-01   70.033607  \n",
       "2017-09-01   70.143074  \n",
       "2017-10-01   78.325958  \n",
       "2017-11-01   79.258194  \n",
       "2017-12-01   80.952789  \n",
       "2018-01-01   89.914932  \n",
       "2018-02-01   88.741417  \n",
       "2018-03-01   86.781235  \n",
       "2018-04-01   88.920578  \n",
       "2018-05-01   93.978943  \n",
       "2018-06-01   94.166641  \n",
       "2018-07-01  101.300041  \n",
       "2018-08-01  107.268425  \n",
       "2018-09-01  109.636780  \n",
       "2018-10-01  102.389664  \n",
       "2018-11-01  106.300812  \n",
       "2018-12-01   97.787148  \n",
       "2019-01-01  100.540627  \n",
       "2019-02-01  107.857574  \n",
       "2019-03-01  114.032402  \n",
       "2019-04-01  126.272934  \n",
       "2019-05-01  119.582222  \n",
       "2019-06-01  130.001068  \n",
       "2019-07-01  132.242798  \n",
       "2019-08-01  133.785828  \n",
       "2019-09-01  135.370514  \n",
       "2019-10-01  139.596283  \n",
       "2019-11-01  147.395447  \n",
       "2019-12-01  154.071594  \n",
       "2020-01-01  166.313248  \n",
       "2020-02-01  158.282410  \n",
       "2020-03-01  154.502197  \n",
       "2020-04-01  175.564911  \n",
       "2020-05-01  179.522736  \n",
       "2020-06-01  199.925858  \n",
       "2020-07-01  201.399475  \n",
       "2020-08-01  221.558090  \n",
       "2020-09-01  207.125259  \n",
       "2020-10-01  199.385025  \n",
       "2020-11-01  210.808273  \n",
       "2020-12-01  219.604477  \n",
       "2021-01-01  229.023727  "
      ]
     },
     "execution_count": 20,
     "metadata": {},
     "output_type": "execute_result"
    }
   ],
   "source": [
    "Data = pdr.get_data_yahoo('MSFT', start=\"01/01/2017\",end=\"01/01/2021\", interval=\"m\")\n",
    "print(Data.shape)\n",
    "Data\n"
   ]
  },
  {
   "cell_type": "markdown",
   "metadata": {},
   "source": [
    "CC Return\n",
    "we calculate the cc returns and filter the NaN values"
   ]
  },
  {
   "cell_type": "code",
   "execution_count": 21,
   "metadata": {},
   "outputs": [],
   "source": [
    "Data[\"r\"] = np.log(Data['Adj Close']) - np.log(Data['Adj Close'].shift(1)) \n",
    "Data= Data.dropna()"
   ]
  },
  {
   "cell_type": "markdown",
   "metadata": {},
   "source": [
    "A. VARIABLE OF STUDY: THE MEAN OF MSFT CC RETURNS\n",
    "\n",
    "\n",
    "B. HA: THE MEAN OF CC RETURNS IS MORE THAN 0 \n",
    "   H0: THE MEAN OF CC RETURNS IS EQUAL TO 0 \n",
    "\n",
    "CALCULATE THE STANDARD ERROR, WHICH IS THE STANDARD DEVIATION OF THE VARIABLE OF STUDY:"
   ]
  },
  {
   "cell_type": "code",
   "execution_count": 23,
   "metadata": {},
   "outputs": [
    {
     "name": "stdout",
     "output_type": "stream",
     "text": [
      "standar deviation  0.04929163981033107\n",
      "mean:  0.027959136969413007\n"
     ]
    }
   ],
   "source": [
    "sd = Data[\"r\"].std()\n",
    "print(\"standar deviation \", sd)\n",
    "mean = Data[\"r\"].mean()\n",
    "print(\"mean: \",mean)"
   ]
  },
  {
   "cell_type": "code",
   "execution_count": 26,
   "metadata": {},
   "outputs": [
    {
     "name": "stdout",
     "output_type": "stream",
     "text": [
      "STANDARD ERROR:  0.007041662830047296\n"
     ]
    }
   ],
   "source": [
    "sd_r_prime = sd/np.sqrt(49)\n",
    "print(\"STANDARD ERROR: \",sd_r_prime)"
   ]
  },
  {
   "cell_type": "markdown",
   "metadata": {},
   "source": [
    "D. CALCULATE THE t-statistic (t-value). EXPLAIN/INTERPRET THE t-statistic."
   ]
  },
  {
   "cell_type": "code",
   "execution_count": 28,
   "metadata": {},
   "outputs": [
    {
     "name": "stdout",
     "output_type": "stream",
     "text": [
      "t_value:  3.9705304903423237\n"
     ]
    }
   ],
   "source": [
    "t=(mean-0)/sd_r_prime\n",
    "print (\"t_value: \",t)"
   ]
  },
  {
   "cell_type": "markdown",
   "metadata": {},
   "source": [
    "I HAVE STRONG EVIDENCE (AT THE 99.7% PROBABILITY) THAT THE H0 IS NOT TRUE, THEN MY HA SHOULD BE TRUE AL LEAST 99.7% OF THE TIME \n",
    "\n",
    "E. CALCULATE THE 95% CONFIDENCE INTERVAL OF THE SAMPLE MEAN"
   ]
  },
  {
   "cell_type": "code",
   "execution_count": 18,
   "metadata": {},
   "outputs": [
    {
     "data": {
      "text/plain": [
       "0.01387580494439185"
      ]
     },
     "execution_count": 18,
     "metadata": {},
     "output_type": "execute_result"
    }
   ],
   "source": [
    "min_ci = mean - 2 * (sd_r_prime)\n",
    "min_ci"
   ]
  },
  {
   "cell_type": "code",
   "execution_count": 19,
   "metadata": {},
   "outputs": [
    {
     "data": {
      "text/plain": [
       "0.04204247973812903"
      ]
     },
     "execution_count": 19,
     "metadata": {},
     "output_type": "execute_result"
    }
   ],
   "source": [
    "max_ci = mean + 2 * (sd_r_prime)\n",
    "max_ci"
   ]
  },
  {
   "cell_type": "markdown",
   "metadata": {},
   "source": [
    "SO 99.7% OF THE TIME THE MEAN RETURNS OF MICROSOFT WILL BE AROUND 0.0138 AND 0.0420"
   ]
  },
  {
   "cell_type": "markdown",
   "metadata": {},
   "source": []
  }
 ],
 "metadata": {
  "kernelspec": {
   "display_name": "Python 3.8.8 ('base')",
   "language": "python",
   "name": "python3"
  },
  "language_info": {
   "codemirror_mode": {
    "name": "ipython",
    "version": 3
   },
   "file_extension": ".py",
   "mimetype": "text/x-python",
   "name": "python",
   "nbconvert_exporter": "python",
   "pygments_lexer": "ipython3",
   "version": "3.8.8"
  },
  "orig_nbformat": 4,
  "vscode": {
   "interpreter": {
    "hash": "bce320103a4f9599bf42cb45744b1f3acee8930c6f7dcdff248089a2e65863cd"
   }
  }
 },
 "nbformat": 4,
 "nbformat_minor": 2
}
