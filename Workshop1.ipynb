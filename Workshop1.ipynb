{
 "cells": [
  {
   "cell_type": "markdown",
   "metadata": {},
   "source": [
    "# Workshop1"
   ]
  },
  {
   "cell_type": "markdown",
   "metadata": {},
   "source": [
    "Import libraries:"
   ]
  },
  {
   "cell_type": "code",
   "execution_count": 29,
   "metadata": {},
   "outputs": [],
   "source": [
    "import numpy as np\n",
    "import pandas as pd\n",
    "import pandas_datareader as pdr\n",
    "import matplotlib\n",
    "from matplotlib.pyplot import*\n",
    "from matplotlib import pyplot"
   ]
  },
  {
   "cell_type": "markdown",
   "metadata": {},
   "source": [
    "Download data. Daily prices for Bitcoin from 2017"
   ]
  },
  {
   "cell_type": "code",
   "execution_count": 2,
   "metadata": {},
   "outputs": [],
   "source": [
    "BTC = pdr.get_data_yahoo('BTC-USD', start=\"01/01/2017\", interval=\"d\")"
   ]
  },
  {
   "cell_type": "markdown",
   "metadata": {},
   "source": [
    "Show the data"
   ]
  },
  {
   "cell_type": "code",
   "execution_count": 3,
   "metadata": {},
   "outputs": [
    {
     "data": {
      "text/html": [
       "<div>\n",
       "<style scoped>\n",
       "    .dataframe tbody tr th:only-of-type {\n",
       "        vertical-align: middle;\n",
       "    }\n",
       "\n",
       "    .dataframe tbody tr th {\n",
       "        vertical-align: top;\n",
       "    }\n",
       "\n",
       "    .dataframe thead th {\n",
       "        text-align: right;\n",
       "    }\n",
       "</style>\n",
       "<table border=\"1\" class=\"dataframe\">\n",
       "  <thead>\n",
       "    <tr style=\"text-align: right;\">\n",
       "      <th></th>\n",
       "      <th>High</th>\n",
       "      <th>Low</th>\n",
       "      <th>Open</th>\n",
       "      <th>Close</th>\n",
       "      <th>Volume</th>\n",
       "      <th>Adj Close</th>\n",
       "    </tr>\n",
       "    <tr>\n",
       "      <th>Date</th>\n",
       "      <th></th>\n",
       "      <th></th>\n",
       "      <th></th>\n",
       "      <th></th>\n",
       "      <th></th>\n",
       "      <th></th>\n",
       "    </tr>\n",
       "  </thead>\n",
       "  <tbody>\n",
       "    <tr>\n",
       "      <th>2017-01-01</th>\n",
       "      <td>1003.080017</td>\n",
       "      <td>958.698975</td>\n",
       "      <td>963.658020</td>\n",
       "      <td>998.325012</td>\n",
       "      <td>147775008</td>\n",
       "      <td>998.325012</td>\n",
       "    </tr>\n",
       "    <tr>\n",
       "      <th>2017-01-02</th>\n",
       "      <td>1031.390015</td>\n",
       "      <td>996.702026</td>\n",
       "      <td>998.617004</td>\n",
       "      <td>1021.750000</td>\n",
       "      <td>222184992</td>\n",
       "      <td>1021.750000</td>\n",
       "    </tr>\n",
       "    <tr>\n",
       "      <th>2017-01-03</th>\n",
       "      <td>1044.079956</td>\n",
       "      <td>1021.599976</td>\n",
       "      <td>1021.599976</td>\n",
       "      <td>1043.839966</td>\n",
       "      <td>185168000</td>\n",
       "      <td>1043.839966</td>\n",
       "    </tr>\n",
       "    <tr>\n",
       "      <th>2017-01-04</th>\n",
       "      <td>1159.420044</td>\n",
       "      <td>1044.400024</td>\n",
       "      <td>1044.400024</td>\n",
       "      <td>1154.729980</td>\n",
       "      <td>344945984</td>\n",
       "      <td>1154.729980</td>\n",
       "    </tr>\n",
       "    <tr>\n",
       "      <th>2017-01-05</th>\n",
       "      <td>1191.099976</td>\n",
       "      <td>910.416992</td>\n",
       "      <td>1156.729980</td>\n",
       "      <td>1013.380005</td>\n",
       "      <td>510199008</td>\n",
       "      <td>1013.380005</td>\n",
       "    </tr>\n",
       "    <tr>\n",
       "      <th>...</th>\n",
       "      <td>...</td>\n",
       "      <td>...</td>\n",
       "      <td>...</td>\n",
       "      <td>...</td>\n",
       "      <td>...</td>\n",
       "      <td>...</td>\n",
       "    </tr>\n",
       "    <tr>\n",
       "      <th>2022-08-06</th>\n",
       "      <td>23326.562500</td>\n",
       "      <td>22961.279297</td>\n",
       "      <td>23291.423828</td>\n",
       "      <td>22961.279297</td>\n",
       "      <td>15978259885</td>\n",
       "      <td>22961.279297</td>\n",
       "    </tr>\n",
       "    <tr>\n",
       "      <th>2022-08-07</th>\n",
       "      <td>23359.009766</td>\n",
       "      <td>22894.556641</td>\n",
       "      <td>22963.505859</td>\n",
       "      <td>23175.890625</td>\n",
       "      <td>15886817043</td>\n",
       "      <td>23175.890625</td>\n",
       "    </tr>\n",
       "    <tr>\n",
       "      <th>2022-08-08</th>\n",
       "      <td>24203.689453</td>\n",
       "      <td>23176.546875</td>\n",
       "      <td>23179.527344</td>\n",
       "      <td>23809.486328</td>\n",
       "      <td>28575544847</td>\n",
       "      <td>23809.486328</td>\n",
       "    </tr>\n",
       "    <tr>\n",
       "      <th>2022-08-09</th>\n",
       "      <td>23898.615234</td>\n",
       "      <td>22982.000000</td>\n",
       "      <td>23811.484375</td>\n",
       "      <td>23164.318359</td>\n",
       "      <td>23555719219</td>\n",
       "      <td>23164.318359</td>\n",
       "    </tr>\n",
       "    <tr>\n",
       "      <th>2022-08-10</th>\n",
       "      <td>24126.781250</td>\n",
       "      <td>22773.726562</td>\n",
       "      <td>23126.421875</td>\n",
       "      <td>23912.783203</td>\n",
       "      <td>32621391872</td>\n",
       "      <td>23912.783203</td>\n",
       "    </tr>\n",
       "  </tbody>\n",
       "</table>\n",
       "<p>2048 rows × 6 columns</p>\n",
       "</div>"
      ],
      "text/plain": [
       "                    High           Low          Open         Close  \\\n",
       "Date                                                                 \n",
       "2017-01-01   1003.080017    958.698975    963.658020    998.325012   \n",
       "2017-01-02   1031.390015    996.702026    998.617004   1021.750000   \n",
       "2017-01-03   1044.079956   1021.599976   1021.599976   1043.839966   \n",
       "2017-01-04   1159.420044   1044.400024   1044.400024   1154.729980   \n",
       "2017-01-05   1191.099976    910.416992   1156.729980   1013.380005   \n",
       "...                  ...           ...           ...           ...   \n",
       "2022-08-06  23326.562500  22961.279297  23291.423828  22961.279297   \n",
       "2022-08-07  23359.009766  22894.556641  22963.505859  23175.890625   \n",
       "2022-08-08  24203.689453  23176.546875  23179.527344  23809.486328   \n",
       "2022-08-09  23898.615234  22982.000000  23811.484375  23164.318359   \n",
       "2022-08-10  24126.781250  22773.726562  23126.421875  23912.783203   \n",
       "\n",
       "                 Volume     Adj Close  \n",
       "Date                                   \n",
       "2017-01-01    147775008    998.325012  \n",
       "2017-01-02    222184992   1021.750000  \n",
       "2017-01-03    185168000   1043.839966  \n",
       "2017-01-04    344945984   1154.729980  \n",
       "2017-01-05    510199008   1013.380005  \n",
       "...                 ...           ...  \n",
       "2022-08-06  15978259885  22961.279297  \n",
       "2022-08-07  15886817043  23175.890625  \n",
       "2022-08-08  28575544847  23809.486328  \n",
       "2022-08-09  23555719219  23164.318359  \n",
       "2022-08-10  32621391872  23912.783203  \n",
       "\n",
       "[2048 rows x 6 columns]"
      ]
     },
     "execution_count": 3,
     "metadata": {},
     "output_type": "execute_result"
    }
   ],
   "source": [
    "BTC"
   ]
  },
  {
   "cell_type": "code",
   "execution_count": 22,
   "metadata": {},
   "outputs": [
    {
     "data": {
      "text/plain": [
       "(2047, 8)"
      ]
     },
     "execution_count": 22,
     "metadata": {},
     "output_type": "execute_result"
    }
   ],
   "source": [
    "BTC.shape"
   ]
  },
  {
   "cell_type": "markdown",
   "metadata": {},
   "source": [
    "Show the last quotations:"
   ]
  },
  {
   "cell_type": "code",
   "execution_count": 4,
   "metadata": {},
   "outputs": [
    {
     "data": {
      "text/html": [
       "<div>\n",
       "<style scoped>\n",
       "    .dataframe tbody tr th:only-of-type {\n",
       "        vertical-align: middle;\n",
       "    }\n",
       "\n",
       "    .dataframe tbody tr th {\n",
       "        vertical-align: top;\n",
       "    }\n",
       "\n",
       "    .dataframe thead th {\n",
       "        text-align: right;\n",
       "    }\n",
       "</style>\n",
       "<table border=\"1\" class=\"dataframe\">\n",
       "  <thead>\n",
       "    <tr style=\"text-align: right;\">\n",
       "      <th></th>\n",
       "      <th>High</th>\n",
       "      <th>Low</th>\n",
       "      <th>Open</th>\n",
       "      <th>Close</th>\n",
       "      <th>Volume</th>\n",
       "      <th>Adj Close</th>\n",
       "    </tr>\n",
       "    <tr>\n",
       "      <th>Date</th>\n",
       "      <th></th>\n",
       "      <th></th>\n",
       "      <th></th>\n",
       "      <th></th>\n",
       "      <th></th>\n",
       "      <th></th>\n",
       "    </tr>\n",
       "  </thead>\n",
       "  <tbody>\n",
       "    <tr>\n",
       "      <th>2022-08-06</th>\n",
       "      <td>23326.562500</td>\n",
       "      <td>22961.279297</td>\n",
       "      <td>23291.423828</td>\n",
       "      <td>22961.279297</td>\n",
       "      <td>15978259885</td>\n",
       "      <td>22961.279297</td>\n",
       "    </tr>\n",
       "    <tr>\n",
       "      <th>2022-08-07</th>\n",
       "      <td>23359.009766</td>\n",
       "      <td>22894.556641</td>\n",
       "      <td>22963.505859</td>\n",
       "      <td>23175.890625</td>\n",
       "      <td>15886817043</td>\n",
       "      <td>23175.890625</td>\n",
       "    </tr>\n",
       "    <tr>\n",
       "      <th>2022-08-08</th>\n",
       "      <td>24203.689453</td>\n",
       "      <td>23176.546875</td>\n",
       "      <td>23179.527344</td>\n",
       "      <td>23809.486328</td>\n",
       "      <td>28575544847</td>\n",
       "      <td>23809.486328</td>\n",
       "    </tr>\n",
       "    <tr>\n",
       "      <th>2022-08-09</th>\n",
       "      <td>23898.615234</td>\n",
       "      <td>22982.000000</td>\n",
       "      <td>23811.484375</td>\n",
       "      <td>23164.318359</td>\n",
       "      <td>23555719219</td>\n",
       "      <td>23164.318359</td>\n",
       "    </tr>\n",
       "    <tr>\n",
       "      <th>2022-08-10</th>\n",
       "      <td>24126.781250</td>\n",
       "      <td>22773.726562</td>\n",
       "      <td>23126.421875</td>\n",
       "      <td>23912.783203</td>\n",
       "      <td>32621391872</td>\n",
       "      <td>23912.783203</td>\n",
       "    </tr>\n",
       "  </tbody>\n",
       "</table>\n",
       "</div>"
      ],
      "text/plain": [
       "                    High           Low          Open         Close  \\\n",
       "Date                                                                 \n",
       "2022-08-06  23326.562500  22961.279297  23291.423828  22961.279297   \n",
       "2022-08-07  23359.009766  22894.556641  22963.505859  23175.890625   \n",
       "2022-08-08  24203.689453  23176.546875  23179.527344  23809.486328   \n",
       "2022-08-09  23898.615234  22982.000000  23811.484375  23164.318359   \n",
       "2022-08-10  24126.781250  22773.726562  23126.421875  23912.783203   \n",
       "\n",
       "                 Volume     Adj Close  \n",
       "Date                                   \n",
       "2022-08-06  15978259885  22961.279297  \n",
       "2022-08-07  15886817043  23175.890625  \n",
       "2022-08-08  28575544847  23809.486328  \n",
       "2022-08-09  23555719219  23164.318359  \n",
       "2022-08-10  32621391872  23912.783203  "
      ]
     },
     "execution_count": 4,
     "metadata": {},
     "output_type": "execute_result"
    }
   ],
   "source": [
    "BTC.tail()"
   ]
  },
  {
   "cell_type": "code",
   "execution_count": 5,
   "metadata": {},
   "outputs": [
    {
     "data": {
      "image/png": "[encoded data removed]",
      "text/plain": [
       "<Figure size 432x288 with 1 Axes>"
      ]
     },
     "metadata": {},
     "output_type": "display_data"
    }
   ],
   "source": [
    "plot(BTC[\"Close\"])\n",
    "show()"
   ]
  },
  {
   "cell_type": "markdown",
   "metadata": {},
   "source": [
    "Now we get the info for each of the variables or columns in the dataset"
   ]
  },
  {
   "cell_type": "code",
   "execution_count": 6,
   "metadata": {},
   "outputs": [
    {
     "name": "stdout",
     "output_type": "stream",
     "text": [
      "<class 'pandas.core.frame.DataFrame'>\n",
      "DatetimeIndex: 2048 entries, 2017-01-01 to 2022-08-10\n",
      "Data columns (total 6 columns):\n",
      " #   Column     Non-Null Count  Dtype  \n",
      "---  ------     --------------  -----  \n",
      " 0   High       2048 non-null   float64\n",
      " 1   Low        2048 non-null   float64\n",
      " 2   Open       2048 non-null   float64\n",
      " 3   Close      2048 non-null   float64\n",
      " 4   Volume     2048 non-null   int64  \n",
      " 5   Adj Close  2048 non-null   float64\n",
      "dtypes: float64(5), int64(1)\n",
      "memory usage: 112.0 KB\n"
     ]
    }
   ],
   "source": [
    "BTC.info()"
   ]
  },
  {
   "cell_type": "markdown",
   "metadata": {},
   "source": [
    "### Data transformation\n",
    "The price or invesment is the % change of the price from one period to the next. Is a comparison of the actual value of something and the previous value\n",
    "\n",
    "A financial simple return for a stock(Rt) is obtain as percentage of change of price from the previuos period(t-1) to the present period(t)\n",
    "\n",
    "$$R_{t} = \\frac{price_{t}}{price_{t-1}}-1 $$\n",
    "\n",
    "Using this formula we can calculate the simple return of the daily closing value for Bitcoins in 2017:"
   ]
  },
  {
   "cell_type": "code",
   "execution_count": 7,
   "metadata": {},
   "outputs": [
    {
     "name": "stdout",
     "output_type": "stream",
     "text": [
      "Date\n",
      "2017-01-01         NaN\n",
      "2017-01-02    0.023464\n",
      "2017-01-03    0.021620\n",
      "2017-01-04    0.106233\n",
      "2017-01-05   -0.122410\n",
      "                ...   \n",
      "2022-08-06   -0.014085\n",
      "2022-08-07    0.009347\n",
      "2022-08-08    0.027339\n",
      "2022-08-09   -0.027097\n",
      "2022-08-10    0.032311\n",
      "Name: R, Length: 2048, dtype: float64\n"
     ]
    }
   ],
   "source": [
    "BTC[\"R\"] = (BTC[\"Close\"] / BTC[\"Close\"].shift(1)) - 1 #shift takes the previos value\n",
    "print(BTC[\"R\"])"
   ]
  },
  {
   "cell_type": "markdown",
   "metadata": {},
   "source": [
    "We can also calculate the continuosly compounded returns using logarithms of prices"
   ]
  },
  {
   "cell_type": "code",
   "execution_count": 8,
   "metadata": {},
   "outputs": [],
   "source": [
    "BTC[\"r\"] = np.log(BTC['Adj Close']) - np.log(BTC['Adj Close'].shift(1)) \n",
    "BTCR = BTC[['R','r']].copy()"
   ]
  },
  {
   "cell_type": "markdown",
   "metadata": {},
   "source": [
    "We have a NaN value for the first day because we can't calculate returns this day, so we remove this NaN to simplify future calculations:"
   ]
  },
  {
   "cell_type": "code",
   "execution_count": 9,
   "metadata": {},
   "outputs": [],
   "source": [
    "BTC= BTC.dropna()"
   ]
  },
  {
   "cell_type": "markdown",
   "metadata": {},
   "source": [
    "We can see details of the \"R\" column with describe()"
   ]
  },
  {
   "cell_type": "code",
   "execution_count": 10,
   "metadata": {},
   "outputs": [
    {
     "data": {
      "text/plain": [
       "count    2047.000000\n",
       "mean        0.002416\n",
       "std         0.041378\n",
       "min        -0.371695\n",
       "25%        -0.015893\n",
       "50%         0.002217\n",
       "75%         0.020937\n",
       "max         0.252472\n",
       "Name: R, dtype: float64"
      ]
     },
     "execution_count": 10,
     "metadata": {},
     "output_type": "execute_result"
    }
   ],
   "source": [
    "sumret = BTC[\"R\"].describe()\n",
    "sumret"
   ]
  },
  {
   "cell_type": "markdown",
   "metadata": {},
   "source": [
    "we can se thar in avergare the daily Bitcoin return is around 0.2%, the standar deviation is around 4%, at the worst day the return was of -37% and at the best day the return was of 25.2%\n",
    "\n",
    "To se the worse days:"
   ]
  },
  {
   "cell_type": "code",
   "execution_count": 11,
   "metadata": {},
   "outputs": [
    {
     "data": {
      "text/html": [
       "<div>\n",
       "<style scoped>\n",
       "    .dataframe tbody tr th:only-of-type {\n",
       "        vertical-align: middle;\n",
       "    }\n",
       "\n",
       "    .dataframe tbody tr th {\n",
       "        vertical-align: top;\n",
       "    }\n",
       "\n",
       "    .dataframe thead th {\n",
       "        text-align: right;\n",
       "    }\n",
       "</style>\n",
       "<table border=\"1\" class=\"dataframe\">\n",
       "  <thead>\n",
       "    <tr style=\"text-align: right;\">\n",
       "      <th></th>\n",
       "      <th>High</th>\n",
       "      <th>Low</th>\n",
       "      <th>Open</th>\n",
       "      <th>Close</th>\n",
       "      <th>Volume</th>\n",
       "      <th>Adj Close</th>\n",
       "      <th>R</th>\n",
       "      <th>r</th>\n",
       "    </tr>\n",
       "    <tr>\n",
       "      <th>Date</th>\n",
       "      <th></th>\n",
       "      <th></th>\n",
       "      <th></th>\n",
       "      <th></th>\n",
       "      <th></th>\n",
       "      <th></th>\n",
       "      <th></th>\n",
       "      <th></th>\n",
       "    </tr>\n",
       "  </thead>\n",
       "  <tbody>\n",
       "    <tr>\n",
       "      <th>2017-09-14</th>\n",
       "      <td>3920.600098</td>\n",
       "      <td>3153.860107</td>\n",
       "      <td>3875.370117</td>\n",
       "      <td>3154.949951</td>\n",
       "      <td>2716310016</td>\n",
       "      <td>3154.949951</td>\n",
       "      <td>-0.187411</td>\n",
       "      <td>-0.207530</td>\n",
       "    </tr>\n",
       "    <tr>\n",
       "      <th>2018-01-16</th>\n",
       "      <td>13843.099609</td>\n",
       "      <td>10194.900391</td>\n",
       "      <td>13836.099609</td>\n",
       "      <td>11490.500000</td>\n",
       "      <td>18853799936</td>\n",
       "      <td>11490.500000</td>\n",
       "      <td>-0.168548</td>\n",
       "      <td>-0.184582</td>\n",
       "    </tr>\n",
       "    <tr>\n",
       "      <th>2018-02-05</th>\n",
       "      <td>8364.839844</td>\n",
       "      <td>6756.680176</td>\n",
       "      <td>8270.540039</td>\n",
       "      <td>6955.270020</td>\n",
       "      <td>9285289984</td>\n",
       "      <td>6955.270020</td>\n",
       "      <td>-0.159688</td>\n",
       "      <td>-0.173982</td>\n",
       "    </tr>\n",
       "    <tr>\n",
       "      <th>2020-03-12</th>\n",
       "      <td>7929.116211</td>\n",
       "      <td>4860.354004</td>\n",
       "      <td>7913.616211</td>\n",
       "      <td>4970.788086</td>\n",
       "      <td>53980357243</td>\n",
       "      <td>4970.788086</td>\n",
       "      <td>-0.371695</td>\n",
       "      <td>-0.464730</td>\n",
       "    </tr>\n",
       "    <tr>\n",
       "      <th>2022-06-13</th>\n",
       "      <td>26795.589844</td>\n",
       "      <td>22141.257812</td>\n",
       "      <td>26737.578125</td>\n",
       "      <td>22487.388672</td>\n",
       "      <td>68204556440</td>\n",
       "      <td>22487.388672</td>\n",
       "      <td>-0.159747</td>\n",
       "      <td>-0.174053</td>\n",
       "    </tr>\n",
       "  </tbody>\n",
       "</table>\n",
       "</div>"
      ],
      "text/plain": [
       "                    High           Low          Open         Close  \\\n",
       "Date                                                                 \n",
       "2017-09-14   3920.600098   3153.860107   3875.370117   3154.949951   \n",
       "2018-01-16  13843.099609  10194.900391  13836.099609  11490.500000   \n",
       "2018-02-05   8364.839844   6756.680176   8270.540039   6955.270020   \n",
       "2020-03-12   7929.116211   4860.354004   7913.616211   4970.788086   \n",
       "2022-06-13  26795.589844  22141.257812  26737.578125  22487.388672   \n",
       "\n",
       "                 Volume     Adj Close         R         r  \n",
       "Date                                                       \n",
       "2017-09-14   2716310016   3154.949951 -0.187411 -0.207530  \n",
       "2018-01-16  18853799936  11490.500000 -0.168548 -0.184582  \n",
       "2018-02-05   9285289984   6955.270020 -0.159688 -0.173982  \n",
       "2020-03-12  53980357243   4970.788086 -0.371695 -0.464730  \n",
       "2022-06-13  68204556440  22487.388672 -0.159747 -0.174053  "
      ]
     },
     "execution_count": 11,
     "metadata": {},
     "output_type": "execute_result"
    }
   ],
   "source": [
    "BTC[BTC[\"R\"]<-0.15]"
   ]
  },
  {
   "cell_type": "markdown",
   "metadata": {},
   "source": [
    "To see the best days:"
   ]
  },
  {
   "cell_type": "code",
   "execution_count": 12,
   "metadata": {},
   "outputs": [
    {
     "data": {
      "text/html": [
       "<div>\n",
       "<style scoped>\n",
       "    .dataframe tbody tr th:only-of-type {\n",
       "        vertical-align: middle;\n",
       "    }\n",
       "\n",
       "    .dataframe tbody tr th {\n",
       "        vertical-align: top;\n",
       "    }\n",
       "\n",
       "    .dataframe thead th {\n",
       "        text-align: right;\n",
       "    }\n",
       "</style>\n",
       "<table border=\"1\" class=\"dataframe\">\n",
       "  <thead>\n",
       "    <tr style=\"text-align: right;\">\n",
       "      <th></th>\n",
       "      <th>High</th>\n",
       "      <th>Low</th>\n",
       "      <th>Open</th>\n",
       "      <th>Close</th>\n",
       "      <th>Volume</th>\n",
       "      <th>Adj Close</th>\n",
       "      <th>R</th>\n",
       "      <th>r</th>\n",
       "    </tr>\n",
       "    <tr>\n",
       "      <th>Date</th>\n",
       "      <th></th>\n",
       "      <th></th>\n",
       "      <th></th>\n",
       "      <th></th>\n",
       "      <th></th>\n",
       "      <th></th>\n",
       "      <th></th>\n",
       "      <th></th>\n",
       "    </tr>\n",
       "  </thead>\n",
       "  <tbody>\n",
       "    <tr>\n",
       "      <th>2017-12-07</th>\n",
       "      <td>17899.699219</td>\n",
       "      <td>14057.299805</td>\n",
       "      <td>14266.099609</td>\n",
       "      <td>17899.699219</td>\n",
       "      <td>17950699520</td>\n",
       "      <td>17899.699219</td>\n",
       "      <td>0.252472</td>\n",
       "      <td>0.225119</td>\n",
       "    </tr>\n",
       "    <tr>\n",
       "      <th>2017-07-20</th>\n",
       "      <td>2900.699951</td>\n",
       "      <td>2269.889893</td>\n",
       "      <td>2269.889893</td>\n",
       "      <td>2817.600098</td>\n",
       "      <td>2249260032</td>\n",
       "      <td>2817.600098</td>\n",
       "      <td>0.239361</td>\n",
       "      <td>0.214596</td>\n",
       "    </tr>\n",
       "    <tr>\n",
       "      <th>2017-12-06</th>\n",
       "      <td>14369.099609</td>\n",
       "      <td>11923.400391</td>\n",
       "      <td>11923.400391</td>\n",
       "      <td>14291.500000</td>\n",
       "      <td>12656300032</td>\n",
       "      <td>14291.500000</td>\n",
       "      <td>0.199283</td>\n",
       "      <td>0.181724</td>\n",
       "    </tr>\n",
       "    <tr>\n",
       "      <th>2021-02-08</th>\n",
       "      <td>46203.929688</td>\n",
       "      <td>38076.324219</td>\n",
       "      <td>38886.828125</td>\n",
       "      <td>46196.464844</td>\n",
       "      <td>101467222687</td>\n",
       "      <td>46196.464844</td>\n",
       "      <td>0.187465</td>\n",
       "      <td>0.171821</td>\n",
       "    </tr>\n",
       "    <tr>\n",
       "      <th>2020-03-19</th>\n",
       "      <td>6329.735840</td>\n",
       "      <td>5236.968750</td>\n",
       "      <td>5245.416504</td>\n",
       "      <td>6191.192871</td>\n",
       "      <td>51000731797</td>\n",
       "      <td>6191.192871</td>\n",
       "      <td>0.181878</td>\n",
       "      <td>0.167104</td>\n",
       "    </tr>\n",
       "    <tr>\n",
       "      <th>2019-04-02</th>\n",
       "      <td>4905.954590</td>\n",
       "      <td>4155.316895</td>\n",
       "      <td>4156.919434</td>\n",
       "      <td>4879.877930</td>\n",
       "      <td>21315047816</td>\n",
       "      <td>4879.877930</td>\n",
       "      <td>0.173560</td>\n",
       "      <td>0.160042</td>\n",
       "    </tr>\n",
       "    <tr>\n",
       "      <th>2019-10-25</th>\n",
       "      <td>8691.540039</td>\n",
       "      <td>7479.984375</td>\n",
       "      <td>7490.703125</td>\n",
       "      <td>8660.700195</td>\n",
       "      <td>28705065488</td>\n",
       "      <td>8660.700195</td>\n",
       "      <td>0.155763</td>\n",
       "      <td>0.144761</td>\n",
       "    </tr>\n",
       "    <tr>\n",
       "      <th>2017-07-17</th>\n",
       "      <td>2230.489990</td>\n",
       "      <td>1932.619995</td>\n",
       "      <td>1932.619995</td>\n",
       "      <td>2228.409912</td>\n",
       "      <td>1201760000</td>\n",
       "      <td>2228.409912</td>\n",
       "      <td>0.154724</td>\n",
       "      <td>0.143862</td>\n",
       "    </tr>\n",
       "    <tr>\n",
       "      <th>2017-09-15</th>\n",
       "      <td>3733.449951</td>\n",
       "      <td>2946.620117</td>\n",
       "      <td>3166.300049</td>\n",
       "      <td>3637.520020</td>\n",
       "      <td>4148069888</td>\n",
       "      <td>3637.520020</td>\n",
       "      <td>0.152956</td>\n",
       "      <td>0.142330</td>\n",
       "    </tr>\n",
       "  </tbody>\n",
       "</table>\n",
       "</div>"
      ],
      "text/plain": [
       "                    High           Low          Open         Close  \\\n",
       "Date                                                                 \n",
       "2017-12-07  17899.699219  14057.299805  14266.099609  17899.699219   \n",
       "2017-07-20   2900.699951   2269.889893   2269.889893   2817.600098   \n",
       "2017-12-06  14369.099609  11923.400391  11923.400391  14291.500000   \n",
       "2021-02-08  46203.929688  38076.324219  38886.828125  46196.464844   \n",
       "2020-03-19   6329.735840   5236.968750   5245.416504   6191.192871   \n",
       "2019-04-02   4905.954590   4155.316895   4156.919434   4879.877930   \n",
       "2019-10-25   8691.540039   7479.984375   7490.703125   8660.700195   \n",
       "2017-07-17   2230.489990   1932.619995   1932.619995   2228.409912   \n",
       "2017-09-15   3733.449951   2946.620117   3166.300049   3637.520020   \n",
       "\n",
       "                  Volume     Adj Close         R         r  \n",
       "Date                                                        \n",
       "2017-12-07   17950699520  17899.699219  0.252472  0.225119  \n",
       "2017-07-20    2249260032   2817.600098  0.239361  0.214596  \n",
       "2017-12-06   12656300032  14291.500000  0.199283  0.181724  \n",
       "2021-02-08  101467222687  46196.464844  0.187465  0.171821  \n",
       "2020-03-19   51000731797   6191.192871  0.181878  0.167104  \n",
       "2019-04-02   21315047816   4879.877930  0.173560  0.160042  \n",
       "2019-10-25   28705065488   8660.700195  0.155763  0.144761  \n",
       "2017-07-17    1201760000   2228.409912  0.154724  0.143862  \n",
       "2017-09-15    4148069888   3637.520020  0.152956  0.142330  "
      ]
     },
     "execution_count": 12,
     "metadata": {},
     "output_type": "execute_result"
    }
   ],
   "source": [
    "BTC[BTC[\"R\"]>0.15].sort_values(by=['R'], ascending=False)"
   ]
  },
  {
   "cell_type": "markdown",
   "metadata": {},
   "source": [
    "Other important data:"
   ]
  },
  {
   "cell_type": "code",
   "execution_count": 13,
   "metadata": {},
   "outputs": [
    {
     "name": "stdout",
     "output_type": "stream",
     "text": [
      "The daily average return of Bitcoin is  0.0015515825941175428\n",
      "The daily variance of Bitcoin is  0.0017380538421980377\n",
      "The daily standard deviation (volatility) of Bitcoin return is  0.04168997292153159\n",
      "The daily median return of Bitcoin is  0.0022150257023572095\n"
     ]
    }
   ],
   "source": [
    "print(\"The daily average return of Bitcoin is \", BTC[\"r\"].mean())\n",
    "print(\"The daily variance of Bitcoin is \", BTC[\"r\"].var())\n",
    "print(\"The daily standard deviation (volatility) of Bitcoin return is \", BTC[\"r\"].std())\n",
    "print(\"The daily median return of Bitcoin is \",BTC[\"r\"].median())"
   ]
  },
  {
   "cell_type": "markdown",
   "metadata": {},
   "source": [
    "### CHALLENGES: Histogram"
   ]
  },
  {
   "cell_type": "code",
   "execution_count": 18,
   "metadata": {},
   "outputs": [
    {
     "data": {
      "image/png": "[encoded data removed]",
      "text/plain": [
       "<Figure size 432x288 with 1 Axes>"
      ]
     },
     "metadata": {},
     "output_type": "display_data"
    }
   ],
   "source": [
    "r_bitcoin = pd.DataFrame(BTC[[\"R\"]])\n",
    "hist=r_bitcoin.plot.hist(bins=12,alpha=0.5,title=\"Histogram of daily Bitcoin Returns\")"
   ]
  },
  {
   "cell_type": "markdown",
   "metadata": {},
   "source": [
    "WHAT THE HISTOGRAM TELLS US IS MOST DAILY BITCOIN RETURNS WERE -5% TO 5%, WHICH MEANS THE DAILY VALUE OF BITCOIN DID NOT REALLY CHANGE MOST DAYS. ON THE OTHER HAND, THERE WERE MORE GOOD DAYS WHERE THE RETURNS WERE HIGHER THAN 5% THAN THE BAD DAYS WHERE THE RETURNS WERE LOWER THAN 5%. WE CAN ALSO NOTICE THAT THE DATA HAS A NORMAL DISTRIBUTION"
   ]
  },
  {
   "cell_type": "markdown",
   "metadata": {},
   "source": [
    "### Normal Distribution Function"
   ]
  },
  {
   "cell_type": "markdown",
   "metadata": {},
   "source": [
    "### Challenge: simulating the normal distribution"
   ]
  },
  {
   "cell_type": "code",
   "execution_count": 40,
   "metadata": {},
   "outputs": [
    {
     "data": {
      "image/png": "[encoded data removed]",
      "text/plain": [
       "<Figure size 432x288 with 1 Axes>"
      ]
     },
     "metadata": {},
     "output_type": "display_data"
    }
   ],
   "source": [
    "mean = BTC[\"r\"].mean()\n",
    "sd = BTC[\"r\"].std()\n",
    "x = np.random.normal(loc=mean, scale=sd, size=2047)\n",
    "\n",
    "pyplot.hist(x,bins=12,alpha=0.5, label='simulated')\n",
    "pyplot.hist(BTC[[\"r\"]],bins=12,alpha=0.5, label='Real')\n",
    "pyplot.legend(loc='upper right')\n",
    "pyplot.title(label='Histogram of real and simulated daily Bitcoin cc returns')\n",
    "pyplot.show()\n",
    "\n"
   ]
  },
  {
   "cell_type": "markdown",
   "metadata": {},
   "source": [
    "I THINK THE BIGGEST DIFFERENCE IS THAT THE SIMULATED DATA IS MORE DISTRIBUTED. THE SIMULATED RETURNS INDICATE A MORE POSITIVE CHANGE IN THE DAILY BITCOIN PRICES "
   ]
  }
 ],
 "metadata": {
  "kernelspec": {
   "display_name": "Python 3.8.8 ('base')",
   "language": "python",
   "name": "python3"
  },
  "language_info": {
   "codemirror_mode": {
    "name": "ipython",
    "version": 3
   },
   "file_extension": ".py",
   "mimetype": "text/x-python",
   "name": "python",
   "nbconvert_exporter": "python",
   "pygments_lexer": "ipython3",
   "version": "3.8.8"
  },
  "orig_nbformat": 4,
  "vscode": {
   "interpreter": {
    "hash": "bce320103a4f9599bf42cb45744b1f3acee8930c6f7dcdff248089a2e65863cd"
   }
  }
 },
 "nbformat": 4,
 "nbformat_minor": 2
}
