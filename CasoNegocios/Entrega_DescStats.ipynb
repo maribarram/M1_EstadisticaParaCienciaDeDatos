{
 "cells": [
  {
   "cell_type": "markdown",
   "metadata": {},
   "source": [
    "# **Business case: Understanding profitability in the US financial market**\n",
    "\n",
    "### Marcela Ibarra Mora A0123197"
   ]
  },
  {
   "cell_type": "code",
   "execution_count": 1,
   "metadata": {},
   "outputs": [],
   "source": [
    "#Import libraries\n",
    "import pandas as pd\n",
    "import seaborn as sns\n",
    "import numpy as np\n",
    "import matplotlib.pyplot as plt\n",
    "from sklearn.linear_model import LinearRegression"
   ]
  },
  {
   "cell_type": "markdown",
   "metadata": {},
   "source": [
    "### **Get and calculate data**"
   ]
  },
  {
   "cell_type": "code",
   "execution_count": 2,
   "metadata": {},
   "outputs": [
    {
     "data": {
      "text/html": [
       "<div>\n",
       "<style scoped>\n",
       "    .dataframe tbody tr th:only-of-type {\n",
       "        vertical-align: middle;\n",
       "    }\n",
       "\n",
       "    .dataframe tbody tr th {\n",
       "        vertical-align: top;\n",
       "    }\n",
       "\n",
       "    .dataframe thead th {\n",
       "        text-align: right;\n",
       "    }\n",
       "</style>\n",
       "<table border=\"1\" class=\"dataframe\">\n",
       "  <thead>\n",
       "    <tr style=\"text-align: right;\">\n",
       "      <th></th>\n",
       "      <th>firm</th>\n",
       "      <th>q</th>\n",
       "      <th>revenue</th>\n",
       "      <th>cogs</th>\n",
       "      <th>sgae</th>\n",
       "      <th>otheropexp</th>\n",
       "      <th>extraincome</th>\n",
       "      <th>finexp</th>\n",
       "      <th>incometax</th>\n",
       "      <th>totalassets</th>\n",
       "      <th>totalliabilities</th>\n",
       "      <th>shortdebt</th>\n",
       "      <th>longdebt</th>\n",
       "      <th>stockholderequity</th>\n",
       "      <th>adjprice</th>\n",
       "      <th>originalprice</th>\n",
       "      <th>sharesoutstanding</th>\n",
       "      <th>fiscalmonth</th>\n",
       "      <th>year</th>\n",
       "      <th>cto</th>\n",
       "    </tr>\n",
       "  </thead>\n",
       "  <tbody>\n",
       "    <tr>\n",
       "      <th>0</th>\n",
       "      <td>A</td>\n",
       "      <td>2000q1</td>\n",
       "      <td>NaN</td>\n",
       "      <td>NaN</td>\n",
       "      <td>NaN</td>\n",
       "      <td>NaN</td>\n",
       "      <td>NaN</td>\n",
       "      <td>NaN</td>\n",
       "      <td>NaN</td>\n",
       "      <td>NaN</td>\n",
       "      <td>NaN</td>\n",
       "      <td>NaN</td>\n",
       "      <td>NaN</td>\n",
       "      <td>NaN</td>\n",
       "      <td>63.761670</td>\n",
       "      <td>104.0000</td>\n",
       "      <td>452000.000</td>\n",
       "      <td>NaN</td>\n",
       "      <td>2000.0</td>\n",
       "      <td>1.0</td>\n",
       "    </tr>\n",
       "    <tr>\n",
       "      <th>1</th>\n",
       "      <td>A</td>\n",
       "      <td>2000q2</td>\n",
       "      <td>2485000.0</td>\n",
       "      <td>1261000.0</td>\n",
       "      <td>1.010000e+06</td>\n",
       "      <td>0.0</td>\n",
       "      <td>42000.000000</td>\n",
       "      <td>0.000</td>\n",
       "      <td>90000.0</td>\n",
       "      <td>7321000.000</td>\n",
       "      <td>2679000.000</td>\n",
       "      <td>512000.000</td>\n",
       "      <td>0.000</td>\n",
       "      <td>4642000.000</td>\n",
       "      <td>45.215607</td>\n",
       "      <td>73.7500</td>\n",
       "      <td>452271.967</td>\n",
       "      <td>6.0</td>\n",
       "      <td>2000.0</td>\n",
       "      <td>2.0</td>\n",
       "    </tr>\n",
       "    <tr>\n",
       "      <th>2</th>\n",
       "      <td>A</td>\n",
       "      <td>2000q3</td>\n",
       "      <td>2670000.0</td>\n",
       "      <td>1369000.0</td>\n",
       "      <td>1.091000e+06</td>\n",
       "      <td>0.0</td>\n",
       "      <td>28000.000000</td>\n",
       "      <td>0.000</td>\n",
       "      <td>83000.0</td>\n",
       "      <td>7827000.000</td>\n",
       "      <td>2925000.000</td>\n",
       "      <td>528000.000</td>\n",
       "      <td>0.000</td>\n",
       "      <td>4902000.000</td>\n",
       "      <td>30.003238</td>\n",
       "      <td>48.9375</td>\n",
       "      <td>453014.579</td>\n",
       "      <td>9.0</td>\n",
       "      <td>2000.0</td>\n",
       "      <td>3.0</td>\n",
       "    </tr>\n",
       "    <tr>\n",
       "      <th>3</th>\n",
       "      <td>A</td>\n",
       "      <td>2000q4</td>\n",
       "      <td>3372000.0</td>\n",
       "      <td>1732000.0</td>\n",
       "      <td>1.182000e+06</td>\n",
       "      <td>0.0</td>\n",
       "      <td>10000.000000</td>\n",
       "      <td>0.000</td>\n",
       "      <td>163000.0</td>\n",
       "      <td>8425000.000</td>\n",
       "      <td>3160000.000</td>\n",
       "      <td>830000.000</td>\n",
       "      <td>0.000</td>\n",
       "      <td>5265000.000</td>\n",
       "      <td>33.566841</td>\n",
       "      <td>54.7500</td>\n",
       "      <td>456366.381</td>\n",
       "      <td>12.0</td>\n",
       "      <td>2000.0</td>\n",
       "      <td>4.0</td>\n",
       "    </tr>\n",
       "    <tr>\n",
       "      <th>4</th>\n",
       "      <td>A</td>\n",
       "      <td>2001q1</td>\n",
       "      <td>2841000.0</td>\n",
       "      <td>1449000.0</td>\n",
       "      <td>1.113000e+06</td>\n",
       "      <td>0.0</td>\n",
       "      <td>-6000.000000</td>\n",
       "      <td>0.000</td>\n",
       "      <td>119000.0</td>\n",
       "      <td>9208000.000</td>\n",
       "      <td>3667000.000</td>\n",
       "      <td>556000.000</td>\n",
       "      <td>0.000</td>\n",
       "      <td>5541000.000</td>\n",
       "      <td>18.840347</td>\n",
       "      <td>30.7300</td>\n",
       "      <td>456769.737</td>\n",
       "      <td>3.0</td>\n",
       "      <td>2001.0</td>\n",
       "      <td>1.0</td>\n",
       "    </tr>\n",
       "    <tr>\n",
       "      <th>...</th>\n",
       "      <td>...</td>\n",
       "      <td>...</td>\n",
       "      <td>...</td>\n",
       "      <td>...</td>\n",
       "      <td>...</td>\n",
       "      <td>...</td>\n",
       "      <td>...</td>\n",
       "      <td>...</td>\n",
       "      <td>...</td>\n",
       "      <td>...</td>\n",
       "      <td>...</td>\n",
       "      <td>...</td>\n",
       "      <td>...</td>\n",
       "      <td>...</td>\n",
       "      <td>...</td>\n",
       "      <td>...</td>\n",
       "      <td>...</td>\n",
       "      <td>...</td>\n",
       "      <td>...</td>\n",
       "      <td>...</td>\n",
       "    </tr>\n",
       "    <tr>\n",
       "      <th>324442</th>\n",
       "      <td>ZYNE</td>\n",
       "      <td>2021q3</td>\n",
       "      <td>0.0</td>\n",
       "      <td>0.0</td>\n",
       "      <td>1.021065e+04</td>\n",
       "      <td>0.0</td>\n",
       "      <td>-376.636750</td>\n",
       "      <td>-5.038</td>\n",
       "      <td>0.0</td>\n",
       "      <td>89996.170</td>\n",
       "      <td>11309.171</td>\n",
       "      <td>207.635</td>\n",
       "      <td>411.237</td>\n",
       "      <td>78686.999</td>\n",
       "      <td>4.240000</td>\n",
       "      <td>4.2400</td>\n",
       "      <td>41251.537</td>\n",
       "      <td>9.0</td>\n",
       "      <td>2021.0</td>\n",
       "      <td>3.0</td>\n",
       "    </tr>\n",
       "    <tr>\n",
       "      <th>324443</th>\n",
       "      <td>ZYNE</td>\n",
       "      <td>2021q4</td>\n",
       "      <td>0.0</td>\n",
       "      <td>0.0</td>\n",
       "      <td>8.836436e+03</td>\n",
       "      <td>0.0</td>\n",
       "      <td>16.937906</td>\n",
       "      <td>-4.433</td>\n",
       "      <td>0.0</td>\n",
       "      <td>81171.507</td>\n",
       "      <td>10258.173</td>\n",
       "      <td>209.068</td>\n",
       "      <td>353.694</td>\n",
       "      <td>70913.334</td>\n",
       "      <td>2.880000</td>\n",
       "      <td>2.8800</td>\n",
       "      <td>41217.537</td>\n",
       "      <td>12.0</td>\n",
       "      <td>2021.0</td>\n",
       "      <td>4.0</td>\n",
       "    </tr>\n",
       "    <tr>\n",
       "      <th>324444</th>\n",
       "      <td>ZYNE</td>\n",
       "      <td>2022q1</td>\n",
       "      <td>0.0</td>\n",
       "      <td>0.0</td>\n",
       "      <td>8.903915e+03</td>\n",
       "      <td>0.0</td>\n",
       "      <td>317.252110</td>\n",
       "      <td>-96.044</td>\n",
       "      <td>0.0</td>\n",
       "      <td>74381.029</td>\n",
       "      <td>9214.059</td>\n",
       "      <td>210.512</td>\n",
       "      <td>295.754</td>\n",
       "      <td>65166.970</td>\n",
       "      <td>2.050000</td>\n",
       "      <td>2.0500</td>\n",
       "      <td>42447.037</td>\n",
       "      <td>3.0</td>\n",
       "      <td>2022.0</td>\n",
       "      <td>1.0</td>\n",
       "    </tr>\n",
       "    <tr>\n",
       "      <th>324445</th>\n",
       "      <td>ZYNE</td>\n",
       "      <td>2022q2</td>\n",
       "      <td>0.0</td>\n",
       "      <td>0.0</td>\n",
       "      <td>9.168770e+03</td>\n",
       "      <td>0.0</td>\n",
       "      <td>-775.927860</td>\n",
       "      <td>-91.691</td>\n",
       "      <td>0.0</td>\n",
       "      <td>67006.959</td>\n",
       "      <td>9765.086</td>\n",
       "      <td>211.965</td>\n",
       "      <td>237.414</td>\n",
       "      <td>57241.873</td>\n",
       "      <td>1.140000</td>\n",
       "      <td>1.1400</td>\n",
       "      <td>43595.959</td>\n",
       "      <td>6.0</td>\n",
       "      <td>2022.0</td>\n",
       "      <td>2.0</td>\n",
       "    </tr>\n",
       "    <tr>\n",
       "      <th>324446</th>\n",
       "      <td>NaN</td>\n",
       "      <td>NaN</td>\n",
       "      <td>NaN</td>\n",
       "      <td>NaN</td>\n",
       "      <td>NaN</td>\n",
       "      <td>NaN</td>\n",
       "      <td>NaN</td>\n",
       "      <td>NaN</td>\n",
       "      <td>NaN</td>\n",
       "      <td>NaN</td>\n",
       "      <td>NaN</td>\n",
       "      <td>NaN</td>\n",
       "      <td>NaN</td>\n",
       "      <td>NaN</td>\n",
       "      <td>NaN</td>\n",
       "      <td>NaN</td>\n",
       "      <td>NaN</td>\n",
       "      <td>NaN</td>\n",
       "      <td>NaN</td>\n",
       "      <td>NaN</td>\n",
       "    </tr>\n",
       "  </tbody>\n",
       "</table>\n",
       "<p>324447 rows × 20 columns</p>\n",
       "</div>"
      ],
      "text/plain": [
       "        firm       q    revenue       cogs          sgae  otheropexp  \\\n",
       "0          A  2000q1        NaN        NaN           NaN         NaN   \n",
       "1          A  2000q2  2485000.0  1261000.0  1.010000e+06         0.0   \n",
       "2          A  2000q3  2670000.0  1369000.0  1.091000e+06         0.0   \n",
       "3          A  2000q4  3372000.0  1732000.0  1.182000e+06         0.0   \n",
       "4          A  2001q1  2841000.0  1449000.0  1.113000e+06         0.0   \n",
       "...      ...     ...        ...        ...           ...         ...   \n",
       "324442  ZYNE  2021q3        0.0        0.0  1.021065e+04         0.0   \n",
       "324443  ZYNE  2021q4        0.0        0.0  8.836436e+03         0.0   \n",
       "324444  ZYNE  2022q1        0.0        0.0  8.903915e+03         0.0   \n",
       "324445  ZYNE  2022q2        0.0        0.0  9.168770e+03         0.0   \n",
       "324446   NaN     NaN        NaN        NaN           NaN         NaN   \n",
       "\n",
       "         extraincome  finexp  incometax  totalassets  totalliabilities  \\\n",
       "0                NaN     NaN        NaN          NaN               NaN   \n",
       "1       42000.000000   0.000    90000.0  7321000.000       2679000.000   \n",
       "2       28000.000000   0.000    83000.0  7827000.000       2925000.000   \n",
       "3       10000.000000   0.000   163000.0  8425000.000       3160000.000   \n",
       "4       -6000.000000   0.000   119000.0  9208000.000       3667000.000   \n",
       "...              ...     ...        ...          ...               ...   \n",
       "324442   -376.636750  -5.038        0.0    89996.170         11309.171   \n",
       "324443     16.937906  -4.433        0.0    81171.507         10258.173   \n",
       "324444    317.252110 -96.044        0.0    74381.029          9214.059   \n",
       "324445   -775.927860 -91.691        0.0    67006.959          9765.086   \n",
       "324446           NaN     NaN        NaN          NaN               NaN   \n",
       "\n",
       "         shortdebt  longdebt  stockholderequity   adjprice  originalprice  \\\n",
       "0              NaN       NaN                NaN  63.761670       104.0000   \n",
       "1       512000.000     0.000        4642000.000  45.215607        73.7500   \n",
       "2       528000.000     0.000        4902000.000  30.003238        48.9375   \n",
       "3       830000.000     0.000        5265000.000  33.566841        54.7500   \n",
       "4       556000.000     0.000        5541000.000  18.840347        30.7300   \n",
       "...            ...       ...                ...        ...            ...   \n",
       "324442     207.635   411.237          78686.999   4.240000         4.2400   \n",
       "324443     209.068   353.694          70913.334   2.880000         2.8800   \n",
       "324444     210.512   295.754          65166.970   2.050000         2.0500   \n",
       "324445     211.965   237.414          57241.873   1.140000         1.1400   \n",
       "324446         NaN       NaN                NaN        NaN            NaN   \n",
       "\n",
       "        sharesoutstanding  fiscalmonth    year  cto  \n",
       "0              452000.000          NaN  2000.0  1.0  \n",
       "1              452271.967          6.0  2000.0  2.0  \n",
       "2              453014.579          9.0  2000.0  3.0  \n",
       "3              456366.381         12.0  2000.0  4.0  \n",
       "4              456769.737          3.0  2001.0  1.0  \n",
       "...                   ...          ...     ...  ...  \n",
       "324442          41251.537          9.0  2021.0  3.0  \n",
       "324443          41217.537         12.0  2021.0  4.0  \n",
       "324444          42447.037          3.0  2022.0  1.0  \n",
       "324445          43595.959          6.0  2022.0  2.0  \n",
       "324446                NaN          NaN     NaN  NaN  \n",
       "\n",
       "[324447 rows x 20 columns]"
      ]
     },
     "execution_count": 2,
     "metadata": {},
     "output_type": "execute_result"
    }
   ],
   "source": [
    "#upload data\n",
    "data = pd.read_csv('us2022q2a.csv')\n",
    "data"
   ]
  },
  {
   "cell_type": "code",
   "execution_count": 3,
   "metadata": {},
   "outputs": [
    {
     "data": {
      "text/html": [
       "<div>\n",
       "<style scoped>\n",
       "    .dataframe tbody tr th:only-of-type {\n",
       "        vertical-align: middle;\n",
       "    }\n",
       "\n",
       "    .dataframe tbody tr th {\n",
       "        vertical-align: top;\n",
       "    }\n",
       "\n",
       "    .dataframe thead th {\n",
       "        text-align: right;\n",
       "    }\n",
       "</style>\n",
       "<table border=\"1\" class=\"dataframe\">\n",
       "  <thead>\n",
       "    <tr style=\"text-align: right;\">\n",
       "      <th></th>\n",
       "      <th>firm</th>\n",
       "      <th>Name</th>\n",
       "      <th>Sector NAICS level 1</th>\n",
       "    </tr>\n",
       "  </thead>\n",
       "  <tbody>\n",
       "    <tr>\n",
       "      <th>0</th>\n",
       "      <td>Ticker</td>\n",
       "      <td>Name</td>\n",
       "      <td>Sector NAICS\\nlevel 1</td>\n",
       "    </tr>\n",
       "    <tr>\n",
       "      <th>1</th>\n",
       "      <td>FLWS</td>\n",
       "      <td>1 800 Flowers Com Inc</td>\n",
       "      <td>Retail Trade</td>\n",
       "    </tr>\n",
       "    <tr>\n",
       "      <th>2</th>\n",
       "      <td>TXG</td>\n",
       "      <td>10x Genomics, Inc</td>\n",
       "      <td>Manufacturing</td>\n",
       "    </tr>\n",
       "    <tr>\n",
       "      <th>3</th>\n",
       "      <td>GOED</td>\n",
       "      <td>1847 Goedeker Inc</td>\n",
       "      <td>Retail Trade</td>\n",
       "    </tr>\n",
       "    <tr>\n",
       "      <th>4</th>\n",
       "      <td>ONEM</td>\n",
       "      <td>1life Healthcare, Inc</td>\n",
       "      <td>Health Care and Social Assistance</td>\n",
       "    </tr>\n",
       "    <tr>\n",
       "      <th>...</th>\n",
       "      <td>...</td>\n",
       "      <td>...</td>\n",
       "      <td>...</td>\n",
       "    </tr>\n",
       "    <tr>\n",
       "      <th>3604</th>\n",
       "      <td>ZUO</td>\n",
       "      <td>Zuora, Inc</td>\n",
       "      <td>Information</td>\n",
       "    </tr>\n",
       "    <tr>\n",
       "      <th>3605</th>\n",
       "      <td>ZWS</td>\n",
       "      <td>Zurn Elkay Water Solutions Corp</td>\n",
       "      <td>Manufacturing</td>\n",
       "    </tr>\n",
       "    <tr>\n",
       "      <th>3606</th>\n",
       "      <td>ZY</td>\n",
       "      <td>Zymergen Inc</td>\n",
       "      <td>Professional, Scientific, and Technical Services</td>\n",
       "    </tr>\n",
       "    <tr>\n",
       "      <th>3607</th>\n",
       "      <td>ZYNE</td>\n",
       "      <td>Zynerba Pharmaceuticals, Inc</td>\n",
       "      <td>Manufacturing</td>\n",
       "    </tr>\n",
       "    <tr>\n",
       "      <th>3608</th>\n",
       "      <td>ZNGA</td>\n",
       "      <td>Zynga Inc</td>\n",
       "      <td>Information</td>\n",
       "    </tr>\n",
       "  </tbody>\n",
       "</table>\n",
       "<p>3609 rows × 3 columns</p>\n",
       "</div>"
      ],
      "text/plain": [
       "        firm                             Name  \\\n",
       "0     Ticker                             Name   \n",
       "1       FLWS            1 800 Flowers Com Inc   \n",
       "2        TXG                10x Genomics, Inc   \n",
       "3       GOED                1847 Goedeker Inc   \n",
       "4       ONEM            1life Healthcare, Inc   \n",
       "...      ...                              ...   \n",
       "3604     ZUO                       Zuora, Inc   \n",
       "3605     ZWS  Zurn Elkay Water Solutions Corp   \n",
       "3606      ZY                     Zymergen Inc   \n",
       "3607    ZYNE     Zynerba Pharmaceuticals, Inc   \n",
       "3608    ZNGA                        Zynga Inc   \n",
       "\n",
       "                                  Sector NAICS level 1  \n",
       "0                                Sector NAICS\\nlevel 1  \n",
       "1                                         Retail Trade  \n",
       "2                                        Manufacturing  \n",
       "3                                         Retail Trade  \n",
       "4                    Health Care and Social Assistance  \n",
       "...                                                ...  \n",
       "3604                                       Information  \n",
       "3605                                     Manufacturing  \n",
       "3606  Professional, Scientific, and Technical Services  \n",
       "3607                                     Manufacturing  \n",
       "3608                                       Information  \n",
       "\n",
       "[3609 rows x 3 columns]"
      ]
     },
     "execution_count": 3,
     "metadata": {},
     "output_type": "execute_result"
    }
   ],
   "source": [
    "#Get the firm and ticket info\n",
    "name_columns = [\"firm\",\"Name\",\"N\",\"Class\",\"Country of Origin\",\"Type of Asset\",\"Sector NAICS level 1\",\"Exchange / Src\",\"Sector Economatica\",\"Sector NAICS last available\",\"partind\"]\n",
    "df_firms = pd.read_csv('usfirms2022.csv', names = name_columns)\n",
    "df_firms = df_firms.drop([\"N\",\"Class\",\"Country of Origin\",\"Type of Asset\",\"Exchange / Src\",\"Sector Economatica\",\"Sector NAICS last available\",\"partind\"], axis=1)\n",
    "df_firms"
   ]
  },
  {
   "cell_type": "code",
   "execution_count": 4,
   "metadata": {},
   "outputs": [],
   "source": [
    "#merge both data frames\n",
    "data = data.merge(df_firms, how='left', on='firm')"
   ]
  },
  {
   "cell_type": "code",
   "execution_count": 5,
   "metadata": {},
   "outputs": [],
   "source": [
    "data['q'] = pd.PeriodIndex(data['q'],freq = \"q\")"
   ]
  },
  {
   "cell_type": "code",
   "execution_count": 6,
   "metadata": {},
   "outputs": [],
   "source": [
    "data.set_index(['firm','q'],inplace=True)"
   ]
  },
  {
   "cell_type": "code",
   "execution_count": 7,
   "metadata": {},
   "outputs": [],
   "source": [
    "data [\"Market Value\"] = data[\"originalprice\"]*data[\"sharesoutstanding\"]"
   ]
  },
  {
   "cell_type": "code",
   "execution_count": 8,
   "metadata": {},
   "outputs": [],
   "source": [
    "data[\"Book Value\"] = data[\"totalassets\"]-data[\"totalliabilities\"]"
   ]
  },
  {
   "cell_type": "code",
   "execution_count": 9,
   "metadata": {},
   "outputs": [],
   "source": [
    "data[\"Ebit\"] = data[\"revenue\"] - data[\"cogs\"] - data[\"sgae\"]"
   ]
  },
  {
   "cell_type": "code",
   "execution_count": 10,
   "metadata": {},
   "outputs": [],
   "source": [
    "data[\"revenue\"] = data[\"revenue\"].replace(0,np.nan)"
   ]
  },
  {
   "cell_type": "code",
   "execution_count": 11,
   "metadata": {},
   "outputs": [],
   "source": [
    "data[\"Op. profit margin\"] = data[\"Ebit\"]/data[\"revenue\"]  #Porcentaje"
   ]
  },
  {
   "cell_type": "code",
   "execution_count": 12,
   "metadata": {},
   "outputs": [],
   "source": [
    "data[\"net_income\"] = data[\"Ebit\"] - data[\"otheropexp\"] - data[\"incometax\"] - data[\"finexp\"] + data[\"extraincome\"]"
   ]
  },
  {
   "cell_type": "code",
   "execution_count": 13,
   "metadata": {},
   "outputs": [],
   "source": [
    "pd.options.display.float_format = \"{:,.2f}\".format\n",
    "data[\"Profit margin\"] = (data[\"net_income\"] / data[\"revenue\"])*100  #Porcentaje"
   ]
  },
  {
   "cell_type": "code",
   "execution_count": 14,
   "metadata": {},
   "outputs": [],
   "source": [
    "#Divide by industry\n",
    "data_industry1 = data.loc[(data[\"Sector NAICS level 1\"] == \"Wholesale Trade\") | (data[\"Sector NAICS level 1\"] == \"Retail Trade\")]\n",
    "data_industry2 = data.loc[(data[\"Sector NAICS level 1\"] == \"Accommodation and Food Services\") | (data[\"Sector NAICS level 1\"] == \"Administrative and Support and Waste Managment and Remedation Services\") | (data[\"Sector NAICS level 1\"] == \"Arts, Entertainment, and Recreation\") | (data[\"Sector NAICS level 1\"] == \"Educational Services\") | (data[\"Sector NAICS level 1\"] == \"Health Care and Social Assistance\") | (data[\"Sector NAICS level 1\"] == \"Information\") | (data[\"Sector NAICS level 1\"] == \"Other Services (except Public Administration)\") | (data[\"Sector NAICS level 1\"] == \"Profession, Scientific and Technical Services\") | (data[\"Sector NAICS level 1\"] == \"Transportation and Warehousing\")]\n",
    "data_industry3 = data.loc[(data[\"Sector NAICS level 1\"] == \"Finance and Insurance\") | (data[\"Sector NAICS level 1\"] == \"Real Estate and Rental and Leasing\")]\n",
    "data_industry4 = data.loc[(data[\"Sector NAICS level 1\"] == \"Manufacturing\")]"
   ]
  },
  {
   "cell_type": "markdown",
   "metadata": {},
   "source": [
    "## **General questions:**\n",
    "\n",
    "By industry, what is the composition of US public firms in terms of firm size, sales performance and profitability?\n",
    "\n",
    "Why some firms are more profitable than others? Which factors/variables from financial statements are related to stock returns?"
   ]
  },
  {
   "cell_type": "markdown",
   "metadata": {},
   "source": [
    "## **Specific questions**\n",
    "\n",
    "About descriptive statistics\n",
    "\n",
    "Considering the most recent financial quarter of the dataset:"
   ]
  },
  {
   "cell_type": "markdown",
   "metadata": {},
   "source": [
    "Question 1\n",
    "\n",
    "Show how many firms by industry there are in the sample?"
   ]
  },
  {
   "cell_type": "code",
   "execution_count": 15,
   "metadata": {},
   "outputs": [
    {
     "name": "stdout",
     "output_type": "stream",
     "text": [
      "Commercial (231, 24)\n",
      "Services (514, 24)\n",
      "Financial Services (769, 24)\n",
      "Manufacturing (1565, 24)\n"
     ]
    }
   ],
   "source": [
    "print(\"Commercial\",data_industry1.groupby([\"firm\"]).sum().shape)\n",
    "print(\"Services\",data_industry2.groupby([\"firm\"]).sum().shape)\n",
    "print(\"Financial Services\",data_industry3.groupby([\"firm\"]).sum().shape)\n",
    "print(\"Manufacturing\",data_industry4.groupby([\"firm\"]).sum().shape)"
   ]
  },
  {
   "cell_type": "markdown",
   "metadata": {},
   "source": [
    "COMMERCIAL HAS 231 FIRMS\n",
    "\n",
    "SERVICES HAS 514 FIRMS\n",
    "\n",
    "FINANCIAL SERVICES HAS 769 FIRMS\n",
    "\n",
    "MANUFACTURING HAS 1565 FIRMS"
   ]
  },
  {
   "cell_type": "markdown",
   "metadata": {},
   "source": [
    "Question 2\n",
    "\n",
    "For each industry (and for all industries), what can you say about the typical firm size in terms of market value?"
   ]
  },
  {
   "cell_type": "code",
   "execution_count": 16,
   "metadata": {},
   "outputs": [
    {
     "data": {
      "text/plain": [
       "1576864.41918"
      ]
     },
     "execution_count": 16,
     "metadata": {},
     "output_type": "execute_result"
    }
   ],
   "source": [
    "#For all industries based on market value\n",
    "data[\"Market Value\"].median()"
   ]
  },
  {
   "cell_type": "markdown",
   "metadata": {},
   "source": [
    "FOR ALL INDUSTRIES, THE TYPICAL FIRM SIZE BASED ON MARKET VALUE IS 1,576,864.419 THOUSAND DOLLARS"
   ]
  },
  {
   "cell_type": "markdown",
   "metadata": {},
   "source": [
    "How firm size (in market value) is distributed?"
   ]
  },
  {
   "cell_type": "code",
   "execution_count": 17,
   "metadata": {},
   "outputs": [
    {
     "data": {
      "text/plain": [
       "<seaborn.axisgrid.FacetGrid at 0x217f3c20550>"
      ]
     },
     "execution_count": 17,
     "metadata": {},
     "output_type": "execute_result"
    },
    {
     "data": {
      "image/png": "[encoded data removed]",
      "text/plain": [
       "<Figure size 360x360 with 1 Axes>"
      ]
     },
     "metadata": {},
     "output_type": "display_data"
    }
   ],
   "source": [
    "sns.displot(x ='Market Value',bins = 5,data=data)"
   ]
  },
  {
   "cell_type": "code",
   "execution_count": 18,
   "metadata": {},
   "outputs": [
    {
     "data": {
      "image/png": "[encoded data removed]",
      "text/plain": [
       "<Figure size 432x288 with 1 Axes>"
      ]
     },
     "metadata": {},
     "output_type": "display_data"
    }
   ],
   "source": [
    "ax = sns.boxplot(x=data[\"Market Value\"])"
   ]
  },
  {
   "cell_type": "markdown",
   "metadata": {},
   "source": [
    "BASED ON THE HISTOGRAM AND THE BOXPLOT FROM ABOVE WE CAN NOTICE THAT THE DATA DOESN'T HAVE A NORMAL DISTRIBUTION BECAUSE MOST OF THE DATA LEAN ON THE LEFT SIDE OF THE GRAPHS, AROUND THE VALUES OF 0 AND 500,000,000 THOUSAND DOLLARS FOR MARKET VALUES, MEANING THAT MOST FIRMS ARE SMALL COMPARE TO THE AMOUNT OF FIRMS THAT ARE BIGGER"
   ]
  },
  {
   "cell_type": "markdown",
   "metadata": {},
   "source": [
    "How much Market Value change within each industry?\n"
   ]
  },
  {
   "cell_type": "code",
   "execution_count": 19,
   "metadata": {},
   "outputs": [
    {
     "name": "stdout",
     "output_type": "stream",
     "text": [
      "Commercial 2083817.9707199999\n",
      "Services 2184463.5194800003\n",
      "Financial Services 1563695.9379000003\n",
      "Manufacturing 1190025.10997\n"
     ]
    }
   ],
   "source": [
    "#For all industries individualy based on market value\n",
    "print(\"Commercial\",data_industry1[\"Market Value\"].median())\n",
    "print(\"Services\",data_industry2[\"Market Value\"].median())\n",
    "print(\"Financial Services\",data_industry3[\"Market Value\"].median())\n",
    "print(\"Manufacturing\",data_industry4[\"Market Value\"].median())"
   ]
  },
  {
   "cell_type": "markdown",
   "metadata": {},
   "source": [
    "FOR THE COMMERCIAL INDUSTRY, THE TYPICAL FIRM SIZE BASED ON MARKET VALUE IS 2,083,817.9707 THOUSAND DOLLARS\n",
    "\n",
    "FOR THE SERVICES INDUSTRY, THE TYPICAL FIRM SIZE BASED ON MARKET VALUE IS 2,184,463.5194 THOUSAND DOLLARS\n",
    "\n",
    "FOR THE FINANCIAL SERVICES INDUSTRY, THE TYPICAL FIRM SIZE BASED ON MARKET VALUE IS 1,563,695.9379 THOUSAND DOLLARS\n",
    "\n",
    "FOR THE MANUFACTURING INDUSTRY, THE TYPICAL FIRM SIZE BASED ON MARKET VALUE IS 1,190,025.1099 THOUSAND DOLLARS\n",
    "\n",
    "MEANING THE INDUSTRY WITH THE MOST VALUABLE FIRMS IS THE SERVICES INDUSTRY"
   ]
  },
  {
   "cell_type": "code",
   "execution_count": 20,
   "metadata": {},
   "outputs": [
    {
     "data": {
      "image/png": "[encoded data removed]",
      "text/plain": [
       "<Figure size 432x288 with 1 Axes>"
      ]
     },
     "metadata": {},
     "output_type": "display_data"
    }
   ],
   "source": [
    "ax = sns.boxplot(x=\"Sector NAICS level 1\",y=\"Market Value\",data=data_industry1, hue=\"Sector NAICS level 1\",palette='Set3')"
   ]
  },
  {
   "cell_type": "code",
   "execution_count": 21,
   "metadata": {},
   "outputs": [
    {
     "data": {
      "image/png": "[encoded data removed]",
      "text/plain": [
       "<Figure size 432x288 with 1 Axes>"
      ]
     },
     "metadata": {},
     "output_type": "display_data"
    }
   ],
   "source": [
    "ax = sns.boxplot(x=\"Sector NAICS level 1\",y=\"Market Value\",data=data_industry2, hue=\"Sector NAICS level 1\",palette='Set3')"
   ]
  },
  {
   "cell_type": "code",
   "execution_count": 22,
   "metadata": {},
   "outputs": [
    {
     "data": {
      "image/png": "[encoded data removed]",
      "text/plain": [
       "<Figure size 432x288 with 1 Axes>"
      ]
     },
     "metadata": {},
     "output_type": "display_data"
    }
   ],
   "source": [
    "ax = sns.boxplot(x=\"Sector NAICS level 1\",y=\"Market Value\",data=data_industry3, hue=\"Sector NAICS level 1\",palette='Set3')"
   ]
  },
  {
   "cell_type": "code",
   "execution_count": 23,
   "metadata": {},
   "outputs": [
    {
     "data": {
      "image/png": "[encoded data removed]",
      "text/plain": [
       "<Figure size 432x288 with 1 Axes>"
      ]
     },
     "metadata": {},
     "output_type": "display_data"
    }
   ],
   "source": [
    "ax = sns.boxplot(x=\"Sector NAICS level 1\",y=\"Market Value\",data=data_industry4, hue=\"Sector NAICS level 1\",palette='Set3')"
   ]
  },
  {
   "cell_type": "markdown",
   "metadata": {},
   "source": [
    "Now for Book Value"
   ]
  },
  {
   "cell_type": "markdown",
   "metadata": {},
   "source": [
    "For each industry (and for all industries), what can you say about the typical firm size in terms of book value?"
   ]
  },
  {
   "cell_type": "code",
   "execution_count": 24,
   "metadata": {},
   "outputs": [
    {
     "data": {
      "text/plain": [
       "568889.0"
      ]
     },
     "execution_count": 24,
     "metadata": {},
     "output_type": "execute_result"
    }
   ],
   "source": [
    "#For all industries based on\n",
    "data[\"Book Value\"].median()"
   ]
  },
  {
   "cell_type": "markdown",
   "metadata": {},
   "source": [
    "FOR ALL INDUSTRIES, THE TYPICAL FIRM SIZE BASED ON BOOK VALUE IS 568,889.0 THOUSAND DOLLARS"
   ]
  },
  {
   "cell_type": "markdown",
   "metadata": {},
   "source": [
    "How much Book Value change within each industry?"
   ]
  },
  {
   "cell_type": "code",
   "execution_count": 25,
   "metadata": {},
   "outputs": [
    {
     "name": "stdout",
     "output_type": "stream",
     "text": [
      "Commercial 723936.0\n",
      "Services 544419.0\n",
      "Financial Services 893833.0\n",
      "Manufacturing 363070.5\n"
     ]
    }
   ],
   "source": [
    "print(\"Commercial\",data_industry1[\"Book Value\"].median())\n",
    "print(\"Services\",data_industry2[\"Book Value\"].median())\n",
    "print(\"Financial Services\",data_industry3[\"Book Value\"].median())\n",
    "print(\"Manufacturing\",data_industry4[\"Book Value\"].median())"
   ]
  },
  {
   "cell_type": "markdown",
   "metadata": {},
   "source": [
    "FOR THE COMMERCIAL INDUSTRY, THE TYPICAL FIRM SIZE BASED ON BOOK VALUE IS 723,936.0 THOUSAND DOLLARS\n",
    "\n",
    "FOR THE SERVICES INDUSTRY, THE TYPICAL FIRM SIZE BASED ON BOOK VALUE IS 544,419.0 THOUSAN DOLLARS\n",
    "\n",
    "FOR THE FINANCIAL SERVICES INDUSTRY, THE TYPICAL FIRM SIZE BASED ON BOOK VALUE IS 893,833.0 THOUSAND DOLLARS\n",
    "\n",
    "FOR THE MANUFACTURING INDUSTRY, THE TYPICAL FIRM SIZE BASED ON BOOK VALUE IS 363,070.5 THOUSAND DOLLARS\n",
    "\n",
    "MEANING THE INDUSTRY WERE THE FIRMS HAVE A BIGGER VALUE BASED ON THE BOOKS IS THE FINANCIAL SERVICES"
   ]
  },
  {
   "cell_type": "markdown",
   "metadata": {},
   "source": [
    "Question 3"
   ]
  },
  {
   "cell_type": "markdown",
   "metadata": {},
   "source": [
    "For each industry (and for all industries), what can you say about profit margin of firms?\n",
    "\n",
    "Descriptive statistics of profit margin"
   ]
  },
  {
   "cell_type": "code",
   "execution_count": 26,
   "metadata": {},
   "outputs": [
    {
     "data": {
      "text/plain": [
       "count       151,933.00\n",
       "mean           -776.43\n",
       "std          39,285.83\n",
       "min     -10,140,324.14\n",
       "25%              -0.78\n",
       "50%               5.80\n",
       "75%              14.44\n",
       "max       4,819,100.00\n",
       "Name: Profit margin, dtype: float64"
      ]
     },
     "execution_count": 26,
     "metadata": {},
     "output_type": "execute_result"
    }
   ],
   "source": [
    "#For all industries\n",
    "data[\"Profit margin\"].describe()"
   ]
  },
  {
   "cell_type": "code",
   "execution_count": 27,
   "metadata": {},
   "outputs": [
    {
     "data": {
      "text/plain": [
       "count    11,545.00\n",
       "mean         -4.51\n",
       "std         265.76\n",
       "min     -25,483.33\n",
       "25%           0.85\n",
       "50%           2.92\n",
       "75%           5.87\n",
       "max       3,327.01\n",
       "Name: Profit margin, dtype: float64"
      ]
     },
     "execution_count": 27,
     "metadata": {},
     "output_type": "execute_result"
    }
   ],
   "source": [
    "#for each Industry\n",
    "data_industry1[\"Profit margin\"].describe()"
   ]
  },
  {
   "cell_type": "code",
   "execution_count": 28,
   "metadata": {},
   "outputs": [
    {
     "data": {
      "text/plain": [
       "count       20,843.00\n",
       "mean          -268.59\n",
       "std         16,846.74\n",
       "min     -2,270,600.00\n",
       "25%             -4.65\n",
       "50%              4.20\n",
       "75%             10.09\n",
       "max         59,755.09\n",
       "Name: Profit margin, dtype: float64"
      ]
     },
     "execution_count": 28,
     "metadata": {},
     "output_type": "execute_result"
    }
   ],
   "source": [
    "data_industry2[\"Profit margin\"].describe()"
   ]
  },
  {
   "cell_type": "code",
   "execution_count": 29,
   "metadata": {},
   "outputs": [
    {
     "data": {
      "text/plain": [
       "count     37,404.00\n",
       "mean         -48.22\n",
       "std        6,082.29\n",
       "min     -980,500.00\n",
       "25%            6.42\n",
       "50%           18.76\n",
       "75%           31.15\n",
       "max      195,966.67\n",
       "Name: Profit margin, dtype: float64"
      ]
     },
     "execution_count": 29,
     "metadata": {},
     "output_type": "execute_result"
    }
   ],
   "source": [
    "data_industry3[\"Profit margin\"].describe()"
   ]
  },
  {
   "cell_type": "code",
   "execution_count": 30,
   "metadata": {},
   "outputs": [
    {
     "data": {
      "text/plain": [
       "count        57,319.00\n",
       "mean         -1,747.79\n",
       "std          59,805.17\n",
       "min     -10,140,324.14\n",
       "25%              -8.99\n",
       "50%               4.13\n",
       "75%               9.64\n",
       "max       4,819,100.00\n",
       "Name: Profit margin, dtype: float64"
      ]
     },
     "execution_count": 30,
     "metadata": {},
     "output_type": "execute_result"
    }
   ],
   "source": [
    "data_industry4[\"Profit margin\"].describe()"
   ]
  },
  {
   "cell_type": "markdown",
   "metadata": {},
   "source": [
    "Plot(s) to illustrate how profit margin changes across industries."
   ]
  },
  {
   "cell_type": "code",
   "execution_count": 31,
   "metadata": {},
   "outputs": [],
   "source": [
    "lq_profit_ind1=data_industry1[\"Profit margin\"].groupby([\"firm\"]).last()\n",
    "lq_profit_ind2=data_industry2[\"Profit margin\"].groupby([\"firm\"]).last()\n",
    "lq_profit_ind3=data_industry3[\"Profit margin\"].groupby([\"firm\"]).last()\n",
    "lq_profit_ind4=data_industry4[\"Profit margin\"].groupby([\"firm\"]).last()"
   ]
  },
  {
   "cell_type": "code",
   "execution_count": 35,
   "metadata": {},
   "outputs": [
    {
     "data": {
      "text/plain": [
       "Text(0.5, 1.0, 'Profit margin for Manufacturing')"
      ]
     },
     "execution_count": 35,
     "metadata": {},
     "output_type": "execute_result"
    },
    {
     "data": {
      "image/png": "[encoded data removed]",
      "text/plain": [
       "<Figure size 1080x720 with 4 Axes>"
      ]
     },
     "metadata": {},
     "output_type": "display_data"
    }
   ],
   "source": [
    "fig = plt.figure(figsize=(15, 10))\n",
    "\n",
    "# Divide the figure into a 2x1 grid, and give me the first section\n",
    "ax1 = fig.add_subplot(221)\n",
    "\n",
    "# Divide the figure into a 2x1 grid, and give me the second section\n",
    "ax2 = fig.add_subplot(222)\n",
    "ax3 = fig.add_subplot(223)\n",
    "ax4 = fig.add_subplot(224)\n",
    "\n",
    "lq_profit_ind1.plot(ax=ax1, legend=True)\n",
    "lq_profit_ind2.plot(ax=ax2, legend=True)\n",
    "lq_profit_ind3.plot(ax=ax3, legend=True)\n",
    "lq_profit_ind4.plot(ax=ax4, legend=True)\n",
    "\n",
    "ax1.set_ylim((-200,100))\n",
    "ax2.set_ylim((-400,100))\n",
    "ax3.set_ylim((-400,300))\n",
    "ax4.set_ylim((-400,200))\n",
    "\n",
    "ax1.set_title(\"Profit margin for Commercial\")\n",
    "ax2.set_title(\"Profit margin for Services\")\n",
    "ax3.set_title(\"Profit margin for Financial Services\")\n",
    "ax4.set_title(\"Profit margin for Manufacturing\")"
   ]
  },
  {
   "cell_type": "markdown",
   "metadata": {},
   "source": [
    "## **Interpreta esto con el market value^**"
   ]
  },
  {
   "cell_type": "markdown",
   "metadata": {},
   "source": [
    "Question 4\n",
    "\n",
    "Which are the biggest 10 US firms in terms of market value and how far they are from the typical size of a US firm?"
   ]
  },
  {
   "cell_type": "code",
   "execution_count": 33,
   "metadata": {},
   "outputs": [
    {
     "data": {
      "text/html": [
       "<div>\n",
       "<style scoped>\n",
       "    .dataframe tbody tr th:only-of-type {\n",
       "        vertical-align: middle;\n",
       "    }\n",
       "\n",
       "    .dataframe tbody tr th {\n",
       "        vertical-align: top;\n",
       "    }\n",
       "\n",
       "    .dataframe thead th {\n",
       "        text-align: right;\n",
       "    }\n",
       "</style>\n",
       "<table border=\"1\" class=\"dataframe\">\n",
       "  <thead>\n",
       "    <tr style=\"text-align: right;\">\n",
       "      <th></th>\n",
       "      <th>revenue</th>\n",
       "      <th>cogs</th>\n",
       "      <th>sgae</th>\n",
       "      <th>otheropexp</th>\n",
       "      <th>extraincome</th>\n",
       "      <th>finexp</th>\n",
       "      <th>incometax</th>\n",
       "      <th>totalassets</th>\n",
       "      <th>totalliabilities</th>\n",
       "      <th>shortdebt</th>\n",
       "      <th>...</th>\n",
       "      <th>year</th>\n",
       "      <th>cto</th>\n",
       "      <th>Name</th>\n",
       "      <th>Sector NAICS level 1</th>\n",
       "      <th>Market Value</th>\n",
       "      <th>Book Value</th>\n",
       "      <th>Ebit</th>\n",
       "      <th>Op. profit margin</th>\n",
       "      <th>net_income</th>\n",
       "      <th>Profit margin</th>\n",
       "    </tr>\n",
       "    <tr>\n",
       "      <th>firm</th>\n",
       "      <th></th>\n",
       "      <th></th>\n",
       "      <th></th>\n",
       "      <th></th>\n",
       "      <th></th>\n",
       "      <th></th>\n",
       "      <th></th>\n",
       "      <th></th>\n",
       "      <th></th>\n",
       "      <th></th>\n",
       "      <th></th>\n",
       "      <th></th>\n",
       "      <th></th>\n",
       "      <th></th>\n",
       "      <th></th>\n",
       "      <th></th>\n",
       "      <th></th>\n",
       "      <th></th>\n",
       "      <th></th>\n",
       "      <th></th>\n",
       "      <th></th>\n",
       "    </tr>\n",
       "  </thead>\n",
       "  <tbody>\n",
       "    <tr>\n",
       "      <th>AAPL</th>\n",
       "      <td>82,959,000.00</td>\n",
       "      <td>47,074,000.00</td>\n",
       "      <td>12,809,000.00</td>\n",
       "      <td>0.00</td>\n",
       "      <td>-10,000.00</td>\n",
       "      <td>0.00</td>\n",
       "      <td>3,624,000.00</td>\n",
       "      <td>336,309,000.00</td>\n",
       "      <td>278,202,000.00</td>\n",
       "      <td>24,991,000.00</td>\n",
       "      <td>...</td>\n",
       "      <td>2,022.00</td>\n",
       "      <td>2.00</td>\n",
       "      <td>Apple Inc</td>\n",
       "      <td>Manufacturing</td>\n",
       "      <td>2,212,837,946.32</td>\n",
       "      <td>58,107,000.00</td>\n",
       "      <td>23,076,000.00</td>\n",
       "      <td>0.28</td>\n",
       "      <td>19,442,000.00</td>\n",
       "      <td>23.44</td>\n",
       "    </tr>\n",
       "    <tr>\n",
       "      <th>MSFT</th>\n",
       "      <td>51,865,000.00</td>\n",
       "      <td>16,429,000.00</td>\n",
       "      <td>14,902,000.00</td>\n",
       "      <td>0.00</td>\n",
       "      <td>-47,000.00</td>\n",
       "      <td>0.00</td>\n",
       "      <td>3,747,000.00</td>\n",
       "      <td>364,840,000.00</td>\n",
       "      <td>198,298,000.00</td>\n",
       "      <td>2,749,000.00</td>\n",
       "      <td>...</td>\n",
       "      <td>2,022.00</td>\n",
       "      <td>2.00</td>\n",
       "      <td>Microsoft Corp</td>\n",
       "      <td>Information</td>\n",
       "      <td>1,920,840,080.06</td>\n",
       "      <td>166,542,000.00</td>\n",
       "      <td>20,534,000.00</td>\n",
       "      <td>0.40</td>\n",
       "      <td>16,740,000.00</td>\n",
       "      <td>32.28</td>\n",
       "    </tr>\n",
       "    <tr>\n",
       "      <th>GOOGL</th>\n",
       "      <td>69,685,000.00</td>\n",
       "      <td>30,104,000.00</td>\n",
       "      <td>20,128,000.00</td>\n",
       "      <td>0.00</td>\n",
       "      <td>-439,000.00</td>\n",
       "      <td>0.00</td>\n",
       "      <td>3,012,000.00</td>\n",
       "      <td>355,185,000.00</td>\n",
       "      <td>99,766,000.00</td>\n",
       "      <td>0.00</td>\n",
       "      <td>...</td>\n",
       "      <td>2,022.00</td>\n",
       "      <td>2.00</td>\n",
       "      <td>Alphabet Inc</td>\n",
       "      <td>Professional, Scientific, and Technical Services</td>\n",
       "      <td>1,435,042,441.95</td>\n",
       "      <td>255,419,000.00</td>\n",
       "      <td>19,453,000.00</td>\n",
       "      <td>0.28</td>\n",
       "      <td>16,002,000.00</td>\n",
       "      <td>22.96</td>\n",
       "    </tr>\n",
       "    <tr>\n",
       "      <th>AMZN</th>\n",
       "      <td>121,234,000.00</td>\n",
       "      <td>66,424,000.00</td>\n",
       "      <td>51,403,000.00</td>\n",
       "      <td>90,000.00</td>\n",
       "      <td>-5,557,000.00</td>\n",
       "      <td>425,000.00</td>\n",
       "      <td>-637,000.00</td>\n",
       "      <td>419,728,000.00</td>\n",
       "      <td>288,326,000.00</td>\n",
       "      <td>0.00</td>\n",
       "      <td>...</td>\n",
       "      <td>2,022.00</td>\n",
       "      <td>2.00</td>\n",
       "      <td>Amazon.Com, Inc</td>\n",
       "      <td>Retail Trade</td>\n",
       "      <td>1,080,624,045.74</td>\n",
       "      <td>131,402,000.00</td>\n",
       "      <td>3,407,000.00</td>\n",
       "      <td>0.03</td>\n",
       "      <td>-2,028,000.00</td>\n",
       "      <td>-1.67</td>\n",
       "    </tr>\n",
       "    <tr>\n",
       "      <th>TSLA</th>\n",
       "      <td>16,934,000.00</td>\n",
       "      <td>12,700,000.00</td>\n",
       "      <td>1,628,000.00</td>\n",
       "      <td>142,000.00</td>\n",
       "      <td>18,000.00</td>\n",
       "      <td>18,000.00</td>\n",
       "      <td>205,000.00</td>\n",
       "      <td>68,513,000.00</td>\n",
       "      <td>31,276,000.00</td>\n",
       "      <td>1,532,000.00</td>\n",
       "      <td>...</td>\n",
       "      <td>2,022.00</td>\n",
       "      <td>2.00</td>\n",
       "      <td>Tesla, Inc</td>\n",
       "      <td>Manufacturing</td>\n",
       "      <td>697,669,803.69</td>\n",
       "      <td>37,237,000.00</td>\n",
       "      <td>2,606,000.00</td>\n",
       "      <td>0.15</td>\n",
       "      <td>2,259,000.00</td>\n",
       "      <td>13.34</td>\n",
       "    </tr>\n",
       "    <tr>\n",
       "      <th>BRK_A</th>\n",
       "      <td>76,180,000.00</td>\n",
       "      <td>0.00</td>\n",
       "      <td>131,662,000.00</td>\n",
       "      <td>0.00</td>\n",
       "      <td>-379,000.00</td>\n",
       "      <td>0.00</td>\n",
       "      <td>-12,106,000.00</td>\n",
       "      <td>909,860,000.00</td>\n",
       "      <td>448,631,000.00</td>\n",
       "      <td>NaN</td>\n",
       "      <td>...</td>\n",
       "      <td>2,022.00</td>\n",
       "      <td>2.00</td>\n",
       "      <td>None</td>\n",
       "      <td>None</td>\n",
       "      <td>601,513,922.30</td>\n",
       "      <td>461,229,000.00</td>\n",
       "      <td>-55,482,000.00</td>\n",
       "      <td>-0.73</td>\n",
       "      <td>-43,755,000.00</td>\n",
       "      <td>-57.44</td>\n",
       "    </tr>\n",
       "    <tr>\n",
       "      <th>UNH</th>\n",
       "      <td>80,332,000.00</td>\n",
       "      <td>73,200,000.00</td>\n",
       "      <td>0.00</td>\n",
       "      <td>0.00</td>\n",
       "      <td>-129,000.00</td>\n",
       "      <td>467,000.00</td>\n",
       "      <td>1,466,000.00</td>\n",
       "      <td>230,172,000.00</td>\n",
       "      <td>153,967,000.00</td>\n",
       "      <td>5,592,000.00</td>\n",
       "      <td>...</td>\n",
       "      <td>2,022.00</td>\n",
       "      <td>2.00</td>\n",
       "      <td>Unitedhealth Group Inc</td>\n",
       "      <td>Finance and Insurance</td>\n",
       "      <td>481,873,080.45</td>\n",
       "      <td>76,205,000.00</td>\n",
       "      <td>7,132,000.00</td>\n",
       "      <td>0.09</td>\n",
       "      <td>5,070,000.00</td>\n",
       "      <td>6.31</td>\n",
       "    </tr>\n",
       "    <tr>\n",
       "      <th>JNJ</th>\n",
       "      <td>24,020,000.00</td>\n",
       "      <td>7,919,000.00</td>\n",
       "      <td>9,929,000.00</td>\n",
       "      <td>85,000.00</td>\n",
       "      <td>-273,000.00</td>\n",
       "      <td>-26,000.00</td>\n",
       "      <td>1,026,000.00</td>\n",
       "      <td>177,724,000.00</td>\n",
       "      <td>101,367,000.00</td>\n",
       "      <td>4,305,000.00</td>\n",
       "      <td>...</td>\n",
       "      <td>2,022.00</td>\n",
       "      <td>2.00</td>\n",
       "      <td>Johnson &amp; Johnson</td>\n",
       "      <td>Manufacturing</td>\n",
       "      <td>467,100,134.23</td>\n",
       "      <td>76,357,000.00</td>\n",
       "      <td>6,172,000.00</td>\n",
       "      <td>0.26</td>\n",
       "      <td>4,814,000.00</td>\n",
       "      <td>20.04</td>\n",
       "    </tr>\n",
       "    <tr>\n",
       "      <th>META</th>\n",
       "      <td>28,822,000.00</td>\n",
       "      <td>5,192,000.00</td>\n",
       "      <td>15,272,000.00</td>\n",
       "      <td>0.00</td>\n",
       "      <td>-172,000.00</td>\n",
       "      <td>0.00</td>\n",
       "      <td>1,499,000.00</td>\n",
       "      <td>169,779,000.00</td>\n",
       "      <td>44,012,000.00</td>\n",
       "      <td>1,275,000.00</td>\n",
       "      <td>...</td>\n",
       "      <td>2,022.00</td>\n",
       "      <td>2.00</td>\n",
       "      <td>Meta Platforms, Inc</td>\n",
       "      <td>Professional, Scientific, and Technical Services</td>\n",
       "      <td>436,394,646.15</td>\n",
       "      <td>125,767,000.00</td>\n",
       "      <td>8,358,000.00</td>\n",
       "      <td>0.29</td>\n",
       "      <td>6,687,000.00</td>\n",
       "      <td>23.20</td>\n",
       "    </tr>\n",
       "    <tr>\n",
       "      <th>NVDA</th>\n",
       "      <td>8,288,000.00</td>\n",
       "      <td>2,857,000.00</td>\n",
       "      <td>2,210,000.00</td>\n",
       "      <td>1,353,000.00</td>\n",
       "      <td>-13,000.00</td>\n",
       "      <td>50,000.00</td>\n",
       "      <td>187,000.00</td>\n",
       "      <td>45,212,000.00</td>\n",
       "      <td>18,892,000.00</td>\n",
       "      <td>0.00</td>\n",
       "      <td>...</td>\n",
       "      <td>2,022.00</td>\n",
       "      <td>2.00</td>\n",
       "      <td>Nvidia Corp</td>\n",
       "      <td>Manufacturing</td>\n",
       "      <td>378,975,000.00</td>\n",
       "      <td>26,320,000.00</td>\n",
       "      <td>3,221,000.00</td>\n",
       "      <td>0.39</td>\n",
       "      <td>1,618,000.00</td>\n",
       "      <td>19.52</td>\n",
       "    </tr>\n",
       "  </tbody>\n",
       "</table>\n",
       "<p>10 rows × 26 columns</p>\n",
       "</div>"
      ],
      "text/plain": [
       "             revenue          cogs           sgae   otheropexp   extraincome  \\\n",
       "firm                                                                           \n",
       "AAPL   82,959,000.00 47,074,000.00  12,809,000.00         0.00    -10,000.00   \n",
       "MSFT   51,865,000.00 16,429,000.00  14,902,000.00         0.00    -47,000.00   \n",
       "GOOGL  69,685,000.00 30,104,000.00  20,128,000.00         0.00   -439,000.00   \n",
       "AMZN  121,234,000.00 66,424,000.00  51,403,000.00    90,000.00 -5,557,000.00   \n",
       "TSLA   16,934,000.00 12,700,000.00   1,628,000.00   142,000.00     18,000.00   \n",
       "BRK_A  76,180,000.00          0.00 131,662,000.00         0.00   -379,000.00   \n",
       "UNH    80,332,000.00 73,200,000.00           0.00         0.00   -129,000.00   \n",
       "JNJ    24,020,000.00  7,919,000.00   9,929,000.00    85,000.00   -273,000.00   \n",
       "META   28,822,000.00  5,192,000.00  15,272,000.00         0.00   -172,000.00   \n",
       "NVDA    8,288,000.00  2,857,000.00   2,210,000.00 1,353,000.00    -13,000.00   \n",
       "\n",
       "          finexp      incometax    totalassets  totalliabilities  \\\n",
       "firm                                                               \n",
       "AAPL        0.00   3,624,000.00 336,309,000.00    278,202,000.00   \n",
       "MSFT        0.00   3,747,000.00 364,840,000.00    198,298,000.00   \n",
       "GOOGL       0.00   3,012,000.00 355,185,000.00     99,766,000.00   \n",
       "AMZN  425,000.00    -637,000.00 419,728,000.00    288,326,000.00   \n",
       "TSLA   18,000.00     205,000.00  68,513,000.00     31,276,000.00   \n",
       "BRK_A       0.00 -12,106,000.00 909,860,000.00    448,631,000.00   \n",
       "UNH   467,000.00   1,466,000.00 230,172,000.00    153,967,000.00   \n",
       "JNJ   -26,000.00   1,026,000.00 177,724,000.00    101,367,000.00   \n",
       "META        0.00   1,499,000.00 169,779,000.00     44,012,000.00   \n",
       "NVDA   50,000.00     187,000.00  45,212,000.00     18,892,000.00   \n",
       "\n",
       "          shortdebt  ...     year  cto                    Name  \\\n",
       "firm                 ...                                         \n",
       "AAPL  24,991,000.00  ... 2,022.00 2.00               Apple Inc   \n",
       "MSFT   2,749,000.00  ... 2,022.00 2.00          Microsoft Corp   \n",
       "GOOGL          0.00  ... 2,022.00 2.00            Alphabet Inc   \n",
       "AMZN           0.00  ... 2,022.00 2.00         Amazon.Com, Inc   \n",
       "TSLA   1,532,000.00  ... 2,022.00 2.00              Tesla, Inc   \n",
       "BRK_A           NaN  ... 2,022.00 2.00                    None   \n",
       "UNH    5,592,000.00  ... 2,022.00 2.00  Unitedhealth Group Inc   \n",
       "JNJ    4,305,000.00  ... 2,022.00 2.00       Johnson & Johnson   \n",
       "META   1,275,000.00  ... 2,022.00 2.00     Meta Platforms, Inc   \n",
       "NVDA           0.00  ... 2,022.00 2.00             Nvidia Corp   \n",
       "\n",
       "                                   Sector NAICS level 1     Market Value  \\\n",
       "firm                                                                       \n",
       "AAPL                                      Manufacturing 2,212,837,946.32   \n",
       "MSFT                                        Information 1,920,840,080.06   \n",
       "GOOGL  Professional, Scientific, and Technical Services 1,435,042,441.95   \n",
       "AMZN                                       Retail Trade 1,080,624,045.74   \n",
       "TSLA                                      Manufacturing   697,669,803.69   \n",
       "BRK_A                                              None   601,513,922.30   \n",
       "UNH                               Finance and Insurance   481,873,080.45   \n",
       "JNJ                                       Manufacturing   467,100,134.23   \n",
       "META   Professional, Scientific, and Technical Services   436,394,646.15   \n",
       "NVDA                                      Manufacturing   378,975,000.00   \n",
       "\n",
       "          Book Value           Ebit  Op. profit margin     net_income  \\\n",
       "firm                                                                    \n",
       "AAPL   58,107,000.00  23,076,000.00               0.28  19,442,000.00   \n",
       "MSFT  166,542,000.00  20,534,000.00               0.40  16,740,000.00   \n",
       "GOOGL 255,419,000.00  19,453,000.00               0.28  16,002,000.00   \n",
       "AMZN  131,402,000.00   3,407,000.00               0.03  -2,028,000.00   \n",
       "TSLA   37,237,000.00   2,606,000.00               0.15   2,259,000.00   \n",
       "BRK_A 461,229,000.00 -55,482,000.00              -0.73 -43,755,000.00   \n",
       "UNH    76,205,000.00   7,132,000.00               0.09   5,070,000.00   \n",
       "JNJ    76,357,000.00   6,172,000.00               0.26   4,814,000.00   \n",
       "META  125,767,000.00   8,358,000.00               0.29   6,687,000.00   \n",
       "NVDA   26,320,000.00   3,221,000.00               0.39   1,618,000.00   \n",
       "\n",
       "      Profit margin  \n",
       "firm                 \n",
       "AAPL          23.44  \n",
       "MSFT          32.28  \n",
       "GOOGL         22.96  \n",
       "AMZN          -1.67  \n",
       "TSLA          13.34  \n",
       "BRK_A        -57.44  \n",
       "UNH            6.31  \n",
       "JNJ           20.04  \n",
       "META          23.20  \n",
       "NVDA          19.52  \n",
       "\n",
       "[10 rows x 26 columns]"
      ]
     },
     "execution_count": 33,
     "metadata": {},
     "output_type": "execute_result"
    }
   ],
   "source": [
    "big_firms = data.groupby([\"firm\"]).last() \n",
    "big_firms_market = big_firms.nlargest(10,\"Market Value\")\n",
    "big_firms_market"
   ]
  },
  {
   "cell_type": "markdown",
   "metadata": {},
   "source": [
    "Question 5\n",
    "\n",
    "Which are the biggest 10 US firms in terms of book value and how far they are from the typical size of a US firm?"
   ]
  },
  {
   "cell_type": "code",
   "execution_count": 34,
   "metadata": {},
   "outputs": [
    {
     "data": {
      "text/html": [
       "<div>\n",
       "<style scoped>\n",
       "    .dataframe tbody tr th:only-of-type {\n",
       "        vertical-align: middle;\n",
       "    }\n",
       "\n",
       "    .dataframe tbody tr th {\n",
       "        vertical-align: top;\n",
       "    }\n",
       "\n",
       "    .dataframe thead th {\n",
       "        text-align: right;\n",
       "    }\n",
       "</style>\n",
       "<table border=\"1\" class=\"dataframe\">\n",
       "  <thead>\n",
       "    <tr style=\"text-align: right;\">\n",
       "      <th></th>\n",
       "      <th>revenue</th>\n",
       "      <th>cogs</th>\n",
       "      <th>sgae</th>\n",
       "      <th>otheropexp</th>\n",
       "      <th>extraincome</th>\n",
       "      <th>finexp</th>\n",
       "      <th>incometax</th>\n",
       "      <th>totalassets</th>\n",
       "      <th>totalliabilities</th>\n",
       "      <th>shortdebt</th>\n",
       "      <th>...</th>\n",
       "      <th>year</th>\n",
       "      <th>cto</th>\n",
       "      <th>Name</th>\n",
       "      <th>Sector NAICS level 1</th>\n",
       "      <th>Market Value</th>\n",
       "      <th>Book Value</th>\n",
       "      <th>Ebit</th>\n",
       "      <th>Op. profit margin</th>\n",
       "      <th>net_income</th>\n",
       "      <th>Profit margin</th>\n",
       "    </tr>\n",
       "    <tr>\n",
       "      <th>firm</th>\n",
       "      <th></th>\n",
       "      <th></th>\n",
       "      <th></th>\n",
       "      <th></th>\n",
       "      <th></th>\n",
       "      <th></th>\n",
       "      <th></th>\n",
       "      <th></th>\n",
       "      <th></th>\n",
       "      <th></th>\n",
       "      <th></th>\n",
       "      <th></th>\n",
       "      <th></th>\n",
       "      <th></th>\n",
       "      <th></th>\n",
       "      <th></th>\n",
       "      <th></th>\n",
       "      <th></th>\n",
       "      <th></th>\n",
       "      <th></th>\n",
       "      <th></th>\n",
       "    </tr>\n",
       "  </thead>\n",
       "  <tbody>\n",
       "    <tr>\n",
       "      <th>BRK_A</th>\n",
       "      <td>76,180,000.00</td>\n",
       "      <td>0.00</td>\n",
       "      <td>131,662,000.00</td>\n",
       "      <td>0.00</td>\n",
       "      <td>-379,000.00</td>\n",
       "      <td>0.00</td>\n",
       "      <td>-12,106,000.00</td>\n",
       "      <td>909,860,000.00</td>\n",
       "      <td>448,631,000.00</td>\n",
       "      <td>NaN</td>\n",
       "      <td>...</td>\n",
       "      <td>2,022.00</td>\n",
       "      <td>2.00</td>\n",
       "      <td>None</td>\n",
       "      <td>None</td>\n",
       "      <td>601,513,922.30</td>\n",
       "      <td>461,229,000.00</td>\n",
       "      <td>-55,482,000.00</td>\n",
       "      <td>-0.73</td>\n",
       "      <td>-43,755,000.00</td>\n",
       "      <td>-57.44</td>\n",
       "    </tr>\n",
       "    <tr>\n",
       "      <th>JPM</th>\n",
       "      <td>18,646,000.00</td>\n",
       "      <td>3,518,000.00</td>\n",
       "      <td>0.00</td>\n",
       "      <td>0.00</td>\n",
       "      <td>-4,263,000.00</td>\n",
       "      <td>0.00</td>\n",
       "      <td>2,216,000.00</td>\n",
       "      <td>3,841,314,000.00</td>\n",
       "      <td>3,555,171,000.00</td>\n",
       "      <td>NaN</td>\n",
       "      <td>...</td>\n",
       "      <td>2,022.00</td>\n",
       "      <td>2.00</td>\n",
       "      <td>Jpmorgan Chase &amp; Co</td>\n",
       "      <td>Finance and Insurance</td>\n",
       "      <td>330,236,976.84</td>\n",
       "      <td>286,143,000.00</td>\n",
       "      <td>15,128,000.00</td>\n",
       "      <td>0.81</td>\n",
       "      <td>8,649,000.00</td>\n",
       "      <td>46.39</td>\n",
       "    </tr>\n",
       "    <tr>\n",
       "      <th>BAC</th>\n",
       "      <td>14,975,000.00</td>\n",
       "      <td>2,531,000.00</td>\n",
       "      <td>0.00</td>\n",
       "      <td>0.00</td>\n",
       "      <td>-5,552,000.00</td>\n",
       "      <td>0.00</td>\n",
       "      <td>645,000.00</td>\n",
       "      <td>3,111,606,000.00</td>\n",
       "      <td>2,842,488,000.00</td>\n",
       "      <td>NaN</td>\n",
       "      <td>...</td>\n",
       "      <td>2,022.00</td>\n",
       "      <td>2.00</td>\n",
       "      <td>Bank Of America Corp</td>\n",
       "      <td>Finance and Insurance</td>\n",
       "      <td>250,810,716.83</td>\n",
       "      <td>269,118,000.00</td>\n",
       "      <td>12,444,000.00</td>\n",
       "      <td>0.83</td>\n",
       "      <td>6,247,000.00</td>\n",
       "      <td>41.72</td>\n",
       "    </tr>\n",
       "    <tr>\n",
       "      <th>GOOGL</th>\n",
       "      <td>69,685,000.00</td>\n",
       "      <td>30,104,000.00</td>\n",
       "      <td>20,128,000.00</td>\n",
       "      <td>0.00</td>\n",
       "      <td>-439,000.00</td>\n",
       "      <td>0.00</td>\n",
       "      <td>3,012,000.00</td>\n",
       "      <td>355,185,000.00</td>\n",
       "      <td>99,766,000.00</td>\n",
       "      <td>0.00</td>\n",
       "      <td>...</td>\n",
       "      <td>2,022.00</td>\n",
       "      <td>2.00</td>\n",
       "      <td>Alphabet Inc</td>\n",
       "      <td>Professional, Scientific, and Technical Services</td>\n",
       "      <td>1,435,042,441.95</td>\n",
       "      <td>255,419,000.00</td>\n",
       "      <td>19,453,000.00</td>\n",
       "      <td>0.28</td>\n",
       "      <td>16,002,000.00</td>\n",
       "      <td>22.96</td>\n",
       "    </tr>\n",
       "    <tr>\n",
       "      <th>C</th>\n",
       "      <td>15,630,000.00</td>\n",
       "      <td>3,666,000.00</td>\n",
       "      <td>0.00</td>\n",
       "      <td>0.00</td>\n",
       "      <td>-6,235,000.00</td>\n",
       "      <td>0.00</td>\n",
       "      <td>1,182,000.00</td>\n",
       "      <td>2,380,904,000.00</td>\n",
       "      <td>2,181,278,000.00</td>\n",
       "      <td>NaN</td>\n",
       "      <td>...</td>\n",
       "      <td>2,022.00</td>\n",
       "      <td>2.00</td>\n",
       "      <td>Citigroup Inc</td>\n",
       "      <td>Finance and Insurance</td>\n",
       "      <td>89,069,275.56</td>\n",
       "      <td>199,626,000.00</td>\n",
       "      <td>11,964,000.00</td>\n",
       "      <td>0.77</td>\n",
       "      <td>4,547,000.00</td>\n",
       "      <td>29.09</td>\n",
       "    </tr>\n",
       "    <tr>\n",
       "      <th>XOM</th>\n",
       "      <td>111,265,000.00</td>\n",
       "      <td>76,299,000.00</td>\n",
       "      <td>6,981,000.00</td>\n",
       "      <td>7,154,000.00</td>\n",
       "      <td>3,572,000.00</td>\n",
       "      <td>194,000.00</td>\n",
       "      <td>6,359,000.00</td>\n",
       "      <td>367,774,000.00</td>\n",
       "      <td>183,266,000.00</td>\n",
       "      <td>7,367,000.00</td>\n",
       "      <td>...</td>\n",
       "      <td>2,022.00</td>\n",
       "      <td>2.00</td>\n",
       "      <td>Exxon Mobil Corp</td>\n",
       "      <td>Manufacturing</td>\n",
       "      <td>356,916,372.30</td>\n",
       "      <td>184,508,000.00</td>\n",
       "      <td>27,985,000.00</td>\n",
       "      <td>0.25</td>\n",
       "      <td>17,850,000.00</td>\n",
       "      <td>16.04</td>\n",
       "    </tr>\n",
       "    <tr>\n",
       "      <th>WFC</th>\n",
       "      <td>11,556,000.00</td>\n",
       "      <td>1,358,000.00</td>\n",
       "      <td>0.00</td>\n",
       "      <td>0.00</td>\n",
       "      <td>-6,466,000.00</td>\n",
       "      <td>0.00</td>\n",
       "      <td>613,000.00</td>\n",
       "      <td>1,881,142,000.00</td>\n",
       "      <td>1,701,349,000.00</td>\n",
       "      <td>NaN</td>\n",
       "      <td>...</td>\n",
       "      <td>2,022.00</td>\n",
       "      <td>2.00</td>\n",
       "      <td>Wells Fargo &amp; Company</td>\n",
       "      <td>Finance and Insurance</td>\n",
       "      <td>148,468,097.36</td>\n",
       "      <td>179,793,000.00</td>\n",
       "      <td>10,198,000.00</td>\n",
       "      <td>0.88</td>\n",
       "      <td>3,119,000.00</td>\n",
       "      <td>26.99</td>\n",
       "    </tr>\n",
       "    <tr>\n",
       "      <th>MSFT</th>\n",
       "      <td>51,865,000.00</td>\n",
       "      <td>16,429,000.00</td>\n",
       "      <td>14,902,000.00</td>\n",
       "      <td>0.00</td>\n",
       "      <td>-47,000.00</td>\n",
       "      <td>0.00</td>\n",
       "      <td>3,747,000.00</td>\n",
       "      <td>364,840,000.00</td>\n",
       "      <td>198,298,000.00</td>\n",
       "      <td>2,749,000.00</td>\n",
       "      <td>...</td>\n",
       "      <td>2,022.00</td>\n",
       "      <td>2.00</td>\n",
       "      <td>Microsoft Corp</td>\n",
       "      <td>Information</td>\n",
       "      <td>1,920,840,080.06</td>\n",
       "      <td>166,542,000.00</td>\n",
       "      <td>20,534,000.00</td>\n",
       "      <td>0.40</td>\n",
       "      <td>16,740,000.00</td>\n",
       "      <td>32.28</td>\n",
       "    </tr>\n",
       "    <tr>\n",
       "      <th>CVX</th>\n",
       "      <td>68,762,000.00</td>\n",
       "      <td>46,321,000.00</td>\n",
       "      <td>4,563,000.00</td>\n",
       "      <td>1,759,000.00</td>\n",
       "      <td>-80,000.00</td>\n",
       "      <td>129,000.00</td>\n",
       "      <td>4,288,000.00</td>\n",
       "      <td>257,936,000.00</td>\n",
       "      <td>103,374,000.00</td>\n",
       "      <td>3,230,000.00</td>\n",
       "      <td>...</td>\n",
       "      <td>2,022.00</td>\n",
       "      <td>2.00</td>\n",
       "      <td>Chevron Corp</td>\n",
       "      <td>Manufacturing</td>\n",
       "      <td>283,397,412.37</td>\n",
       "      <td>154,562,000.00</td>\n",
       "      <td>17,878,000.00</td>\n",
       "      <td>0.26</td>\n",
       "      <td>11,622,000.00</td>\n",
       "      <td>16.90</td>\n",
       "    </tr>\n",
       "    <tr>\n",
       "      <th>T</th>\n",
       "      <td>29,643,000.00</td>\n",
       "      <td>12,341,000.00</td>\n",
       "      <td>11,715,000.00</td>\n",
       "      <td>631,000.00</td>\n",
       "      <td>2,212,000.00</td>\n",
       "      <td>1,502,000.00</td>\n",
       "      <td>1,509,000.00</td>\n",
       "      <td>426,433,000.00</td>\n",
       "      <td>291,126,000.00</td>\n",
       "      <td>6,210,000.00</td>\n",
       "      <td>...</td>\n",
       "      <td>2,022.00</td>\n",
       "      <td>2.00</td>\n",
       "      <td>AT&amp;T Inc</td>\n",
       "      <td>Information</td>\n",
       "      <td>150,052,640.00</td>\n",
       "      <td>135,307,000.00</td>\n",
       "      <td>5,587,000.00</td>\n",
       "      <td>0.19</td>\n",
       "      <td>4,157,000.00</td>\n",
       "      <td>14.02</td>\n",
       "    </tr>\n",
       "  </tbody>\n",
       "</table>\n",
       "<p>10 rows × 26 columns</p>\n",
       "</div>"
      ],
      "text/plain": [
       "             revenue          cogs           sgae   otheropexp   extraincome  \\\n",
       "firm                                                                           \n",
       "BRK_A  76,180,000.00          0.00 131,662,000.00         0.00   -379,000.00   \n",
       "JPM    18,646,000.00  3,518,000.00           0.00         0.00 -4,263,000.00   \n",
       "BAC    14,975,000.00  2,531,000.00           0.00         0.00 -5,552,000.00   \n",
       "GOOGL  69,685,000.00 30,104,000.00  20,128,000.00         0.00   -439,000.00   \n",
       "C      15,630,000.00  3,666,000.00           0.00         0.00 -6,235,000.00   \n",
       "XOM   111,265,000.00 76,299,000.00   6,981,000.00 7,154,000.00  3,572,000.00   \n",
       "WFC    11,556,000.00  1,358,000.00           0.00         0.00 -6,466,000.00   \n",
       "MSFT   51,865,000.00 16,429,000.00  14,902,000.00         0.00    -47,000.00   \n",
       "CVX    68,762,000.00 46,321,000.00   4,563,000.00 1,759,000.00    -80,000.00   \n",
       "T      29,643,000.00 12,341,000.00  11,715,000.00   631,000.00  2,212,000.00   \n",
       "\n",
       "            finexp      incometax      totalassets  totalliabilities  \\\n",
       "firm                                                                   \n",
       "BRK_A         0.00 -12,106,000.00   909,860,000.00    448,631,000.00   \n",
       "JPM           0.00   2,216,000.00 3,841,314,000.00  3,555,171,000.00   \n",
       "BAC           0.00     645,000.00 3,111,606,000.00  2,842,488,000.00   \n",
       "GOOGL         0.00   3,012,000.00   355,185,000.00     99,766,000.00   \n",
       "C             0.00   1,182,000.00 2,380,904,000.00  2,181,278,000.00   \n",
       "XOM     194,000.00   6,359,000.00   367,774,000.00    183,266,000.00   \n",
       "WFC           0.00     613,000.00 1,881,142,000.00  1,701,349,000.00   \n",
       "MSFT          0.00   3,747,000.00   364,840,000.00    198,298,000.00   \n",
       "CVX     129,000.00   4,288,000.00   257,936,000.00    103,374,000.00   \n",
       "T     1,502,000.00   1,509,000.00   426,433,000.00    291,126,000.00   \n",
       "\n",
       "         shortdebt  ...     year  cto                   Name  \\\n",
       "firm                ...                                        \n",
       "BRK_A          NaN  ... 2,022.00 2.00                   None   \n",
       "JPM            NaN  ... 2,022.00 2.00    Jpmorgan Chase & Co   \n",
       "BAC            NaN  ... 2,022.00 2.00   Bank Of America Corp   \n",
       "GOOGL         0.00  ... 2,022.00 2.00           Alphabet Inc   \n",
       "C              NaN  ... 2,022.00 2.00          Citigroup Inc   \n",
       "XOM   7,367,000.00  ... 2,022.00 2.00       Exxon Mobil Corp   \n",
       "WFC            NaN  ... 2,022.00 2.00  Wells Fargo & Company   \n",
       "MSFT  2,749,000.00  ... 2,022.00 2.00         Microsoft Corp   \n",
       "CVX   3,230,000.00  ... 2,022.00 2.00           Chevron Corp   \n",
       "T     6,210,000.00  ... 2,022.00 2.00               AT&T Inc   \n",
       "\n",
       "                                   Sector NAICS level 1     Market Value  \\\n",
       "firm                                                                       \n",
       "BRK_A                                              None   601,513,922.30   \n",
       "JPM                               Finance and Insurance   330,236,976.84   \n",
       "BAC                               Finance and Insurance   250,810,716.83   \n",
       "GOOGL  Professional, Scientific, and Technical Services 1,435,042,441.95   \n",
       "C                                 Finance and Insurance    89,069,275.56   \n",
       "XOM                                       Manufacturing   356,916,372.30   \n",
       "WFC                               Finance and Insurance   148,468,097.36   \n",
       "MSFT                                        Information 1,920,840,080.06   \n",
       "CVX                                       Manufacturing   283,397,412.37   \n",
       "T                                           Information   150,052,640.00   \n",
       "\n",
       "          Book Value           Ebit  Op. profit margin     net_income  \\\n",
       "firm                                                                    \n",
       "BRK_A 461,229,000.00 -55,482,000.00              -0.73 -43,755,000.00   \n",
       "JPM   286,143,000.00  15,128,000.00               0.81   8,649,000.00   \n",
       "BAC   269,118,000.00  12,444,000.00               0.83   6,247,000.00   \n",
       "GOOGL 255,419,000.00  19,453,000.00               0.28  16,002,000.00   \n",
       "C     199,626,000.00  11,964,000.00               0.77   4,547,000.00   \n",
       "XOM   184,508,000.00  27,985,000.00               0.25  17,850,000.00   \n",
       "WFC   179,793,000.00  10,198,000.00               0.88   3,119,000.00   \n",
       "MSFT  166,542,000.00  20,534,000.00               0.40  16,740,000.00   \n",
       "CVX   154,562,000.00  17,878,000.00               0.26  11,622,000.00   \n",
       "T     135,307,000.00   5,587,000.00               0.19   4,157,000.00   \n",
       "\n",
       "      Profit margin  \n",
       "firm                 \n",
       "BRK_A        -57.44  \n",
       "JPM           46.39  \n",
       "BAC           41.72  \n",
       "GOOGL         22.96  \n",
       "C             29.09  \n",
       "XOM           16.04  \n",
       "WFC           26.99  \n",
       "MSFT          32.28  \n",
       "CVX           16.90  \n",
       "T             14.02  \n",
       "\n",
       "[10 rows x 26 columns]"
      ]
     },
     "execution_count": 34,
     "metadata": {},
     "output_type": "execute_result"
    }
   ],
   "source": [
    "big_firms_book = big_firms.nlargest(10,\"Book Value\")\n",
    "big_firms_book"
   ]
  },
  {
   "cell_type": "markdown",
   "metadata": {},
   "source": [
    "## **About statistical modeling**\n",
    "\n",
    "Selected Industry: Commercial"
   ]
  },
  {
   "cell_type": "markdown",
   "metadata": {},
   "source": [
    "Using your subset of firms that belong to your industry, which factors (variables) might be related to annual stock return one quarter in the future? Select at least 3 factors and briefly explain why you think might be related to stock returns.(stock original price,quarter, adjprice)\n",
    "1. Do histograms for each factor/variables and interpret them\n",
    "\n",
    "2. Do plots to visualize the possible relationship each factor might have with the dependent variable.  (correlaciones)\n",
    "\n",
    "3. Show descriptive statistics of these factors  (.describe)"
   ]
  },
  {
   "cell_type": "markdown",
   "metadata": {},
   "source": [
    "Design and run a multiple regression model to examine whether your selected factors and earnings per share deflated by price can explain/predict annual stock returns. You have to control for industry and firm size. To control for these variables you have to include them as extra independent variables in the model ()\n",
    "1. Your independent variables must be in the right scale so that you can compare the values of the variables among different firms of any size\n",
    "\n",
    "2. For each independent variable you have to check for outliers and do the corresponding adjustments to avoid unreliable results in your regression model\n",
    "\n",
    "3. You must check for possible multicollinearity problems. Briefly explain what is multicollinearity, run and interpret the corresponding test"
   ]
  },
  {
   "cell_type": "markdown",
   "metadata": {},
   "source": []
  }
 ],
 "metadata": {
  "kernelspec": {
   "display_name": "Python 3.8.8 ('base')",
   "language": "python",
   "name": "python3"
  },
  "language_info": {
   "codemirror_mode": {
    "name": "ipython",
    "version": 3
   },
   "file_extension": ".py",
   "mimetype": "text/x-python",
   "name": "python",
   "nbconvert_exporter": "python",
   "pygments_lexer": "ipython3",
   "version": "3.8.8"
  },
  "orig_nbformat": 4,
  "vscode": {
   "interpreter": {
    "hash": "bce320103a4f9599bf42cb45744b1f3acee8930c6f7dcdff248089a2e65863cd"
   }
  }
 },
 "nbformat": 4,
 "nbformat_minor": 2
}
